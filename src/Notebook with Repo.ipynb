{
 "cells": [
  {
   "cell_type": "code",
   "execution_count": 1,
   "id": "7c0368a2",
   "metadata": {},
   "outputs": [],
   "source": [
    "import yaml\n",
    "import os"
   ]
  },
  {
   "cell_type": "code",
   "execution_count": 2,
   "id": "d943dae4",
   "metadata": {},
   "outputs": [],
   "source": [
    "with open(\"/Users/sigmoid/Documents/PepsiCo - Gen AI PoC/lift_bot_streamlit/config.yaml\", \"r\") as f:\n",
    "    llm_keys = yaml.safe_load(f)"
   ]
  },
  {
   "cell_type": "code",
   "execution_count": 3,
   "id": "f8d831e4",
   "metadata": {},
   "outputs": [],
   "source": [
    "if llm_keys[\"open_ai\"].strip() != \"\":\n",
    "    os.environ[\"OPENAI_API_KEY\"] = llm_keys[\"open_ai\"]"
   ]
  },
  {
   "cell_type": "code",
   "execution_count": 4,
   "id": "2136375e",
   "metadata": {},
   "outputs": [],
   "source": [
    "import os\n",
    "import pandas as pd\n",
    "from langchain.schema import HumanMessage\n",
    "from langgraph.graph.message import add_messages\n",
    "from langchain_openai import ChatOpenAI"
   ]
  },
  {
   "cell_type": "code",
   "execution_count": 5,
   "id": "b402715f",
   "metadata": {},
   "outputs": [],
   "source": [
    "from main_file import AgentLift"
   ]
  },
  {
   "cell_type": "code",
   "execution_count": 6,
   "id": "97ce5205",
   "metadata": {},
   "outputs": [],
   "source": [
    "file_path = os.getcwd()"
   ]
  },
  {
   "cell_type": "code",
   "execution_count": 7,
   "id": "78dfd3f0",
   "metadata": {},
   "outputs": [],
   "source": [
    "# Load once\n",
    "df_HY = pd.read_csv(os.path.join(file_path, 'data/Historical_Expenses.csv'))\n",
    "df_HY[\"Expense\"] = df_HY[\"Expense\"].str.replace(\",\", \"\", regex=False).astype(int)"
   ]
  },
  {
   "cell_type": "code",
   "execution_count": 8,
   "id": "46ced794",
   "metadata": {},
   "outputs": [],
   "source": [
    "df_CY = pd.read_csv(os.path.join(file_path, 'data/CY_Expense.csv'))"
   ]
  },
  {
   "cell_type": "code",
   "execution_count": 9,
   "id": "7e614eb2",
   "metadata": {},
   "outputs": [],
   "source": [
    "df_Budget = pd.read_csv(os.path.join(file_path, 'data/Budget.csv'))\n",
    "df_Budget[\"2023 - Budget\"] = df_Budget[\"2023 - Budget\"].str.replace(\",\", \"\", regex=False).astype(int)\n",
    "df_Budget[\"2024 - Budget\"] = df_Budget[\"2024 - Budget\"].str.replace(\",\", \"\", regex=False).astype(int)"
   ]
  },
  {
   "cell_type": "code",
   "execution_count": 10,
   "id": "44383889",
   "metadata": {},
   "outputs": [
    {
     "name": "stdout",
     "output_type": "stream",
     "text": [
      "🚀 Agent-Lift System initialized!\n"
     ]
    }
   ],
   "source": [
    "# Create Agent-Lift instance once\n",
    "agent_lift = AgentLift(\n",
    "    df_HY, \n",
    "    df_CY, \n",
    "    df_Budget, \n",
    "    file_path='/Users/sigmoid/Documents/PepsiCo - Gen AI PoC/lift_bot_streamlit/src'\n",
    ")"
   ]
  },
  {
   "cell_type": "code",
   "execution_count": 11,
   "id": "5ff48cef",
   "metadata": {},
   "outputs": [],
   "source": [
    "question = \"How are the Tier 1 expenses in CY varying for Mexico & Brazil for Pepsi brand?\""
   ]
  },
  {
   "cell_type": "code",
   "execution_count": 12,
   "id": "d13f1d1d",
   "metadata": {
    "scrolled": true
   },
   "outputs": [],
   "source": [
    "# state = {\"messages\": [HumanMessage(content=question)], \"next\": \"supervisor\"}\n",
    "# counter = 0\n",
    "# while state[\"next\"] != \"FINISH\" and counter < 10:\n",
    "#     current_state = agent_lift.graph.nodes[state[\"next\"]].invoke(state)\n",
    "# #     if current_state['next'] == 'FINISH':\n",
    "# #         break\n",
    "#     state[\"messages\"] = add_messages(\n",
    "#         state[\"messages\"], current_state[\"messages\"]\n",
    "#     )\n",
    "#     state[\"next\"] = current_state[\"next\"]\n",
    "    \n",
    "#     current_state[\"messages\"][0].pretty_print()\n",
    "#     counter += 1"
   ]
  },
  {
   "cell_type": "code",
   "execution_count": 24,
   "id": "eed9b311",
   "metadata": {},
   "outputs": [],
   "source": [
    "state = {\"messages\": [HumanMessage(content=question)], \"next\": \"supervisor\"}"
   ]
  },
  {
   "cell_type": "code",
   "execution_count": 25,
   "id": "085fc96b",
   "metadata": {},
   "outputs": [],
   "source": [
    "current_state = agent_lift.graph.nodes[state[\"next\"]].invoke(state)"
   ]
  },
  {
   "cell_type": "code",
   "execution_count": 26,
   "id": "1e99efae",
   "metadata": {},
   "outputs": [
    {
     "data": {
      "text/plain": [
       "{'messages': [AIMessage(content=\"The user is asking about the current year's Tier 1 expenses for the Pepsi brand in Mexico and Brazil. This requires analyzing current year expense data to identify variations. The CY Expense Agent is suitable for this task as it specializes in current year data analysis, including trends and comparisons across different dimensions such as regions and brands.\", additional_kwargs={}, response_metadata={}, name='supervisor')],\n",
       " 'next': 'CY Expense Agent'}"
      ]
     },
     "execution_count": 26,
     "metadata": {},
     "output_type": "execute_result"
    }
   ],
   "source": [
    "current_state"
   ]
  },
  {
   "cell_type": "code",
   "execution_count": 27,
   "id": "65d68db4",
   "metadata": {},
   "outputs": [
    {
     "name": "stdout",
     "output_type": "stream",
     "text": [
      "==================================\u001b[1m Ai Message \u001b[0m==================================\n",
      "Name: supervisor\n",
      "\n",
      "The user is asking about the current year's Tier 1 expenses for the Pepsi brand in Mexico and Brazil. This requires analyzing current year expense data to identify variations. The CY Expense Agent is suitable for this task as it specializes in current year data analysis, including trends and comparisons across different dimensions such as regions and brands.\n"
     ]
    }
   ],
   "source": [
    "current_state['messages'][0].pretty_print()"
   ]
  },
  {
   "cell_type": "code",
   "execution_count": 28,
   "id": "37b1f10b",
   "metadata": {},
   "outputs": [],
   "source": [
    "state[\"messages\"] = add_messages(\n",
    "    state[\"messages\"], current_state[\"messages\"]\n",
    ")\n",
    "state[\"next\"] = current_state[\"next\"]"
   ]
  },
  {
   "cell_type": "code",
   "execution_count": 30,
   "id": "eb73a7a9",
   "metadata": {
    "scrolled": true
   },
   "outputs": [
    {
     "name": "stdout",
     "output_type": "stream",
     "text": [
      "Segments are: {'approach': 'To answer this question, I will need to:\\n1. Normalize the \\'Country\\' and \\'Brand\\' columns for accurate filtering.\\n2. Filter the dataset for the \\'Country\\' values of \"Mexico\" and \"Brazil\" and the \\'Brand\\' value of \"PEPSI\".\\n3. Group the filtered data by \\'Year\\' and \\'Tier 1\\' to calculate the total expenses for each combination.\\n4. Prepare the data for visualization by pivoting it to have \\'Year\\' as the index and \\'Tier 1\\' as columns.\\n5. Create a bar chart to visualize the total Tier 1 expenses for each country and tier.', 'code': \"import pandas as pd\\n\\n# Normalize the 'Country' and 'Brand' columns\\ndf['Country'] = df['Country'].str.strip().str.upper()\\ndf['Brand'] = df['Brand'].str.strip().str.upper()\\n\\n# Filter for Mexico and Brazil for Pepsi brand\\nfiltered_df = df[(df['Country'].isin(['MEXICO', 'BRAZIL'])) & (df['Brand'] == 'PEPSI')]\\n\\n# Group by Year and Tier 1 to calculate total expenses\\ntier_expenses = filtered_df.groupby(['Year', 'Tier 1'])['Expense'].sum().reset_index()\\n\\n# Pivot the data for visualization\\npivot_expenses = tier_expenses.pivot(index='Year', columns='Tier 1', values='Expense').fillna(0)\", 'chart': 'import matplotlib.pyplot as plt\\nimport seaborn as sns\\n\\n# Set figure size and style\\nplt.figure(figsize=(10, 6))\\nsns.set_theme(style=\"whitegrid\")  \\nsns.set_palette(\\'pastel\\')\\n\\n# Create a bar plot for Tier 1 expenses\\npivot_expenses.plot(kind=\\'bar\\', stacked=True)\\n\\n# Set title and labels\\nplt.title(\\'Tier 1 Expenses for Pepsi Brand in Mexico & Brazil\\')\\nplt.xlabel(\\'Year\\')\\nplt.ylabel(\\'Total Expenses ($)\\')\\nplt.xticks(rotation=45, ha=\\'right\\')\\nplt.grid(True, alpha=0.3)\\nplt.tight_layout()\\nplt.show()', 'answer': 'The Tier 1 expenses for the Pepsi brand in Mexico and Brazil vary across different years, with specific trends observed in the spending categories. The visualization will provide a clear comparison of how these expenses are distributed among the different Tier 1 categories for each country over the years.'}\n",
      "Combined Code:\n",
      " \n",
      "import pandas as pd\n",
      "\n",
      "# Normalize the 'Country' and 'Brand' columns\n",
      "df['Country'] = df['Country'].str.strip().str.upper()\n",
      "df['Brand'] = df['Brand'].str.strip().str.upper()\n",
      "\n",
      "# Filter for Mexico and Brazil for Pepsi brand\n",
      "filtered_df = df[(df['Country'].isin(['MEXICO', 'BRAZIL'])) & (df['Brand'] == 'PEPSI')]\n",
      "\n",
      "# Group by Year and Tier 1 to calculate total expenses\n",
      "tier_expenses = filtered_df.groupby(['Year', 'Tier 1'])['Expense'].sum().reset_index()\n",
      "\n",
      "# Pivot the data for visualization\n",
      "pivot_expenses = tier_expenses.pivot(index='Year', columns='Tier 1', values='Expense').fillna(0)\n",
      "\n",
      "# Format the answer template\n",
      "answer_text = f'''The Tier 1 expenses for the Pepsi brand in Mexico and Brazil vary across different years, with specific trends observed in the spending categories. The visualization will provide a clear comparison of how these expenses are distributed among the different Tier 1 categories for each country over the years.'''\n",
      "\n",
      "Plot saved at: plots/plot_79fef8f28af3418fa995b42e311dd736.png\n",
      "internal {'approach': 'To answer this question, I will need to:\\n1. Normalize the \\'Country\\' and \\'Brand\\' columns for accurate filtering.\\n2. Filter the dataset for the \\'Country\\' values of \"Mexico\" and \"Brazil\" and the \\'Brand\\' value of \"PEPSI\".\\n3. Group the filtered data by \\'Year\\' and \\'Tier 1\\' to calculate the total expenses for each combination.\\n4. Prepare the data for visualization by pivoting it to have \\'Year\\' as the index and \\'Tier 1\\' as columns.\\n5. Create a bar chart to visualize the total Tier 1 expenses for each country and tier.', 'answer': 'The Tier 1 expenses for the Pepsi brand in Mexico and Brazil vary across different years, with specific trends observed in the spending categories. The visualization will provide a clear comparison of how these expenses are distributed among the different Tier 1 categories for each country over the years.', 'figure': 'plots/plot_79fef8f28af3418fa995b42e311dd736.png', 'code': \"import pandas as pd\\n\\n# Normalize the 'Country' and 'Brand' columns\\ndf['Country'] = df['Country'].str.strip().str.upper()\\ndf['Brand'] = df['Brand'].str.strip().str.upper()\\n\\n# Filter for Mexico and Brazil for Pepsi brand\\nfiltered_df = df[(df['Country'].isin(['MEXICO', 'BRAZIL'])) & (df['Brand'] == 'PEPSI')]\\n\\n# Group by Year and Tier 1 to calculate total expenses\\ntier_expenses = filtered_df.groupby(['Year', 'Tier 1'])['Expense'].sum().reset_index()\\n\\n# Pivot the data for visualization\\npivot_expenses = tier_expenses.pivot(index='Year', columns='Tier 1', values='Expense').fillna(0)\", 'chart_code': 'import matplotlib.pyplot as plt\\nimport seaborn as sns\\n\\n# Set figure size and style\\nplt.figure(figsize=(10, 6))\\nsns.set_theme(style=\"whitegrid\")  \\nsns.set_palette(\\'pastel\\')\\n\\n# Create a bar plot for Tier 1 expenses\\npivot_expenses.plot(kind=\\'bar\\', stacked=True)\\n\\n# Set title and labels\\nplt.title(\\'Tier 1 Expenses for Pepsi Brand in Mexico & Brazil\\')\\nplt.xlabel(\\'Year\\')\\nplt.ylabel(\\'Total Expenses ($)\\')\\nplt.xticks(rotation=45, ha=\\'right\\')\\nplt.grid(True, alpha=0.3)\\nplt.tight_layout()\\nplt.show()'}\n"
     ]
    },
    {
     "data": {
      "text/plain": [
       "<Figure size 1000x600 with 0 Axes>"
      ]
     },
     "metadata": {},
     "output_type": "display_data"
    },
    {
     "data": {
      "image/png": "[encoded data removed]",
      "text/plain": [
       "<Figure size 640x480 with 1 Axes>"
      ]
     },
     "metadata": {},
     "output_type": "display_data"
    }
   ],
   "source": [
    "current_state = agent_lift.graph.nodes[state[\"next\"]].invoke(state)"
   ]
  },
  {
   "cell_type": "code",
   "execution_count": 31,
   "id": "90e7d205",
   "metadata": {},
   "outputs": [
    {
     "name": "stdout",
     "output_type": "stream",
     "text": [
      "================================\u001b[1m Human Message \u001b[0m=================================\n",
      "Name: CY_Expense_Agent\n",
      "\n",
      "To answer this question, I will need to:\n",
      "1. Normalize the 'Country' and 'Brand' columns for accurate filtering.\n",
      "2. Filter the dataset for the 'Country' values of \"Mexico\" and \"Brazil\" and the 'Brand' value of \"PEPSI\".\n",
      "3. Group the filtered data by 'Year' and 'Tier 1' to calculate the total expenses for each combination.\n",
      "4. Prepare the data for visualization by pivoting it to have 'Year' as the index and 'Tier 1' as columns.\n",
      "5. Create a bar chart to visualize the total Tier 1 expenses for each country and tier.\n",
      "Solution we got from this approach is:\n",
      "The Tier 1 expenses for the Pepsi brand in Mexico and Brazil vary across different years, with specific trends observed in the spending categories. The visualization will provide a clear comparison of how these expenses are distributed among the different Tier 1 categories for each country over the years.\n"
     ]
    }
   ],
   "source": [
    "current_state['messages'][0].pretty_print()"
   ]
  },
  {
   "cell_type": "code",
   "execution_count": 32,
   "id": "55f5098e",
   "metadata": {
    "scrolled": true
   },
   "outputs": [
    {
     "data": {
      "text/plain": [
       "dict_keys(['messages', 'next'])"
      ]
     },
     "execution_count": 32,
     "metadata": {},
     "output_type": "execute_result"
    }
   ],
   "source": [
    "current_state.keys()"
   ]
  },
  {
   "cell_type": "code",
   "execution_count": 33,
   "id": "60cecfa0",
   "metadata": {},
   "outputs": [
    {
     "data": {
      "text/plain": [
       "'To answer this question, I will need to:\\n1. Normalize the \\'Country\\' and \\'Brand\\' columns for accurate filtering.\\n2. Filter the dataset for the \\'Country\\' values of \"Mexico\" and \"Brazil\" and the \\'Brand\\' value of \"PEPSI\".\\n3. Group the filtered data by \\'Year\\' and \\'Tier 1\\' to calculate the total expenses for each combination.\\n4. Prepare the data for visualization by pivoting it to have \\'Year\\' as the index and \\'Tier 1\\' as columns.\\n5. Create a bar chart to visualize the total Tier 1 expenses for each country and tier.\\nSolution we got from this approach is:\\nThe Tier 1 expenses for the Pepsi brand in Mexico and Brazil vary across different years, with specific trends observed in the spending categories. The visualization will provide a clear comparison of how these expenses are distributed among the different Tier 1 categories for each country over the years.'"
      ]
     },
     "execution_count": 33,
     "metadata": {},
     "output_type": "execute_result"
    }
   ],
   "source": [
    "current_state['messages'][0].content"
   ]
  },
  {
   "cell_type": "code",
   "execution_count": 35,
   "id": "a2a1b366",
   "metadata": {},
   "outputs": [
    {
     "data": {
      "text/plain": [
       "'plots/plot_79fef8f28af3418fa995b42e311dd736.png'"
      ]
     },
     "execution_count": 35,
     "metadata": {},
     "output_type": "execute_result"
    }
   ],
   "source": [
    "current_state['messages'][0].additional_kwargs.get('figure_path')"
   ]
  },
  {
   "cell_type": "code",
   "execution_count": 31,
   "id": "358aed3e",
   "metadata": {},
   "outputs": [
    {
     "data": {
      "text/plain": [
       "'plots/plot_9b809622eca6492c9653b55da598f6cb.png'"
      ]
     },
     "execution_count": 31,
     "metadata": {},
     "output_type": "execute_result"
    }
   ],
   "source": [
    "current_state['messages'][0].additional_kwargs['response']['figure']"
   ]
  },
  {
   "cell_type": "code",
   "execution_count": null,
   "id": "1a189556",
   "metadata": {},
   "outputs": [],
   "source": []
  },
  {
   "cell_type": "code",
   "execution_count": null,
   "id": "2832a9d1",
   "metadata": {},
   "outputs": [],
   "source": []
  },
  {
   "cell_type": "code",
   "execution_count": 17,
   "id": "6a4611c7",
   "metadata": {},
   "outputs": [
    {
     "name": "stdout",
     "output_type": "stream",
     "text": [
      "================================\u001b[1m Human Message \u001b[0m=================================\n",
      "Name: CY_Expense_Agent\n",
      "\n",
      "To answer this question, I will need to:\n",
      "1. Filter the data for the Pepsi brand and the countries Mexico and Brazil.\n",
      "2. Determine the current year (CY) by finding the maximum year in the dataset.\n",
      "3. Filter the data for the current year.\n",
      "4. Group the data by Country and Tier 1, and sum the expenses.\n",
      "5. Compare the Tier 1 expenses for Mexico and Brazil.\n",
      "6. Visualize the results using a bar chart to show the comparison of Tier 1 expenses for each country.\n",
      "Solution we got from this approach is:\n",
      "In the current year 2025, the Tier 1 expenses for the Pepsi brand in Mexico and Brazil vary as follows: [{'Country': 'BRAZIL', 'Tier 1': 'PULL-NON-WORKING', 'Expense': 268612.62}, {'Country': 'BRAZIL', 'Tier 1': 'PULL-WORKING', 'Expense': 118782.42000000001}, {'Country': 'BRAZIL', 'Tier 1': 'STB - PUSH', 'Expense': 857948.71}, {'Country': 'MEXICO', 'Tier 1': 'PULL-NON-WORKING', 'Expense': 999709.9356}, {'Country': 'MEXICO', 'Tier 1': 'PULL-WORKING', 'Expense': 12708043.1265}, {'Country': 'MEXICO', 'Tier 1': 'STB - PUSH', 'Expense': 2169989.8279999997}].\n",
      "The bar chart visualizes the comparison of these expenses between the two countries.\n"
     ]
    }
   ],
   "source": [
    "current_state['messages'][0].pretty_print()"
   ]
  },
  {
   "cell_type": "code",
   "execution_count": 127,
   "id": "0609b6ed",
   "metadata": {},
   "outputs": [],
   "source": [
    "state[\"messages\"] = add_messages(\n",
    "    state[\"messages\"], current_state[\"messages\"]\n",
    ")\n",
    "state[\"next\"] = current_state[\"next\"]"
   ]
  },
  {
   "cell_type": "code",
   "execution_count": null,
   "id": "16fa5747",
   "metadata": {},
   "outputs": [],
   "source": []
  },
  {
   "cell_type": "code",
   "execution_count": null,
   "id": "9b6b91f9",
   "metadata": {},
   "outputs": [],
   "source": []
  },
  {
   "cell_type": "code",
   "execution_count": null,
   "id": "042031a7",
   "metadata": {},
   "outputs": [],
   "source": []
  },
  {
   "cell_type": "code",
   "execution_count": null,
   "id": "c4b7eadb",
   "metadata": {},
   "outputs": [],
   "source": []
  },
  {
   "cell_type": "code",
   "execution_count": null,
   "id": "f45bfcee",
   "metadata": {},
   "outputs": [],
   "source": []
  }
 ],
 "metadata": {
  "hide_input": false,
  "kernelspec": {
   "display_name": "Python 3.12.11 (pepsico_gen_ai)",
   "language": "python",
   "name": "pepsico_gen_ai"
  },
  "language_info": {
   "codemirror_mode": {
    "name": "ipython",
    "version": 3
   },
   "file_extension": ".py",
   "mimetype": "text/x-python",
   "name": "python",
   "nbconvert_exporter": "python",
   "pygments_lexer": "ipython3",
   "version": "3.12.11"
  },
  "toc": {
   "base_numbering": 1,
   "nav_menu": {},
   "number_sections": false,
   "sideBar": true,
   "skip_h1_title": false,
   "title_cell": "Table of Contents",
   "title_sidebar": "Contents",
   "toc_cell": false,
   "toc_position": {},
   "toc_section_display": true,
   "toc_window_display": false
  }
 },
 "nbformat": 4,
 "nbformat_minor": 5
}
