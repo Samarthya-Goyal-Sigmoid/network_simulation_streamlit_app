{
 "cells": [
  {
   "cell_type": "code",
   "execution_count": 1,
   "id": "5c9ccf47",
   "metadata": {},
   "outputs": [],
   "source": [
    "import warnings\n",
    "warnings.filterwarnings('ignore')\n",
    "import yaml\n",
    "import pandas as pd"
   ]
  },
  {
   "cell_type": "code",
   "execution_count": 2,
   "id": "84fcc6b9",
   "metadata": {},
   "outputs": [],
   "source": [
    "from multi_agents import MultiAgentSystem"
   ]
  },
  {
   "cell_type": "code",
   "execution_count": 3,
   "id": "42d53da2",
   "metadata": {},
   "outputs": [],
   "source": [
    "with open(\"/Users/sigmoid/Downloads/llm_keys.yaml\", \"r\") as f:\n",
    "    llm_keys = yaml.safe_load(f)"
   ]
  },
  {
   "cell_type": "code",
   "execution_count": 4,
   "id": "598277ba",
   "metadata": {},
   "outputs": [],
   "source": [
    "file_path = '/Users/sigmoid/Documents/PepsiCo - Gen AI PoC/lift_bot/src'"
   ]
  },
  {
   "cell_type": "code",
   "execution_count": 28,
   "id": "dd2b4162",
   "metadata": {},
   "outputs": [],
   "source": [
    "# Load data (MODIFIED for new structure)\n",
    "df_expenses = pd.read_csv(\n",
    "    f\"{file_path}/data/Expenses_RB.csv\",\n",
    "    usecols=[\n",
    "        'Region',\n",
    "        'Country',\n",
    "        'Category',\n",
    "        'Brand',\n",
    "        'Year',\n",
    "        'Time Month',\n",
    "        'Tier 1',\n",
    "        'Tier 2',\n",
    "        'Tier 3',\n",
    "        'Expense Status', \n",
    "        'Pending At', \n",
    "        'Expense Logged by (NS)', \n",
    "        'Audit Status',\n",
    "        'Audit Comments',\n",
    "        'Pep Share (USD)', \n",
    "        'Bottler Share (USD)',\n",
    "        'Total Expense (USD)'\n",
    "    ]\n",
    ")\n",
    "# Preprocessing\n",
    "for col in ['Pep Share (USD)', 'Bottler Share (USD)', 'Total Expense (USD)']:\n",
    "    df_expenses[col] = df_expenses[col].fillna(0)\n",
    "    df_expenses[col] = df_expenses[col].astype(int)\n",
    "for col in ['Expense Status', 'Audit Status']:\n",
    "    df_expenses[col] = df_expenses[col].str.title()\n",
    "# Renaming columns\n",
    "df_expenses = df_expenses.rename(\n",
    "    columns={\n",
    "        'Time Month': 'Month', 'Expense Logged by (NS)': 'Expense Logged by',\n",
    "        'Pep Share (USD)': 'Pep Expense', \n",
    "        'Bottler Share (USD)': 'Bottler Expense', \n",
    "        'Total Expense (USD)': 'Total Expense'\n",
    "    }\n",
    ")"
   ]
  },
  {
   "cell_type": "code",
   "execution_count": 29,
   "id": "af15e0ea",
   "metadata": {},
   "outputs": [
    {
     "data": {
      "text/html": [
       "<div>\n",
       "<style scoped>\n",
       "    .dataframe tbody tr th:only-of-type {\n",
       "        vertical-align: middle;\n",
       "    }\n",
       "\n",
       "    .dataframe tbody tr th {\n",
       "        vertical-align: top;\n",
       "    }\n",
       "\n",
       "    .dataframe thead th {\n",
       "        text-align: right;\n",
       "    }\n",
       "</style>\n",
       "<table border=\"1\" class=\"dataframe\">\n",
       "  <thead>\n",
       "    <tr style=\"text-align: right;\">\n",
       "      <th></th>\n",
       "      <th>Expense Status</th>\n",
       "      <th>Pending At</th>\n",
       "      <th>Expense Logged by</th>\n",
       "      <th>Audit Status</th>\n",
       "      <th>Audit Comments</th>\n",
       "      <th>Tier 1</th>\n",
       "      <th>Tier 2</th>\n",
       "      <th>Tier 3</th>\n",
       "      <th>Year</th>\n",
       "      <th>Month</th>\n",
       "      <th>Country</th>\n",
       "      <th>Region</th>\n",
       "      <th>Category</th>\n",
       "      <th>Brand</th>\n",
       "      <th>Pep Expense</th>\n",
       "      <th>Bottler Expense</th>\n",
       "      <th>Total Expense</th>\n",
       "    </tr>\n",
       "  </thead>\n",
       "  <tbody>\n",
       "    <tr>\n",
       "      <th>0</th>\n",
       "      <td>Approved</td>\n",
       "      <td>NaN</td>\n",
       "      <td>Bottler</td>\n",
       "      <td>NaN</td>\n",
       "      <td>NaN</td>\n",
       "      <td>STB - Push</td>\n",
       "      <td>Unilateral</td>\n",
       "      <td>Capital Equipment</td>\n",
       "      <td>2024</td>\n",
       "      <td>10</td>\n",
       "      <td>ARGENTINA</td>\n",
       "      <td>LAB South</td>\n",
       "      <td>Energy Drinks</td>\n",
       "      <td>Rockstar</td>\n",
       "      <td>417</td>\n",
       "      <td>397</td>\n",
       "      <td>814</td>\n",
       "    </tr>\n",
       "    <tr>\n",
       "      <th>1</th>\n",
       "      <td>Approved</td>\n",
       "      <td>NaN</td>\n",
       "      <td>Bottler</td>\n",
       "      <td>NaN</td>\n",
       "      <td>NaN</td>\n",
       "      <td>STB - Push</td>\n",
       "      <td>Unilateral</td>\n",
       "      <td>CDAs</td>\n",
       "      <td>2024</td>\n",
       "      <td>5</td>\n",
       "      <td>ARGENTINA</td>\n",
       "      <td>LAB South</td>\n",
       "      <td>Sport Drinks</td>\n",
       "      <td>Gatorade</td>\n",
       "      <td>159</td>\n",
       "      <td>151</td>\n",
       "      <td>310</td>\n",
       "    </tr>\n",
       "    <tr>\n",
       "      <th>2</th>\n",
       "      <td>Approved</td>\n",
       "      <td>NaN</td>\n",
       "      <td>Bottler</td>\n",
       "      <td>NaN</td>\n",
       "      <td>NaN</td>\n",
       "      <td>STB - Push</td>\n",
       "      <td>Unilateral</td>\n",
       "      <td>CDAs</td>\n",
       "      <td>2024</td>\n",
       "      <td>2</td>\n",
       "      <td>ARGENTINA</td>\n",
       "      <td>LAB South</td>\n",
       "      <td>CSD</td>\n",
       "      <td>Pepsi</td>\n",
       "      <td>104665</td>\n",
       "      <td>99679</td>\n",
       "      <td>204345</td>\n",
       "    </tr>\n",
       "    <tr>\n",
       "      <th>3</th>\n",
       "      <td>Approved</td>\n",
       "      <td>NaN</td>\n",
       "      <td>Bottler</td>\n",
       "      <td>NaN</td>\n",
       "      <td>NaN</td>\n",
       "      <td>STB - Push</td>\n",
       "      <td>Unilateral</td>\n",
       "      <td>CDAs</td>\n",
       "      <td>2024</td>\n",
       "      <td>9</td>\n",
       "      <td>ARGENTINA</td>\n",
       "      <td>LAB South</td>\n",
       "      <td>CSD</td>\n",
       "      <td>Pepsi</td>\n",
       "      <td>9532</td>\n",
       "      <td>9078</td>\n",
       "      <td>18610</td>\n",
       "    </tr>\n",
       "    <tr>\n",
       "      <th>4</th>\n",
       "      <td>Approved</td>\n",
       "      <td>NaN</td>\n",
       "      <td>Bottler</td>\n",
       "      <td>NaN</td>\n",
       "      <td>NaN</td>\n",
       "      <td>STB - Push</td>\n",
       "      <td>Unilateral</td>\n",
       "      <td>Capital Equipment</td>\n",
       "      <td>2024</td>\n",
       "      <td>10</td>\n",
       "      <td>ARGENTINA</td>\n",
       "      <td>LAB South</td>\n",
       "      <td>Sport Drinks</td>\n",
       "      <td>Gatorade</td>\n",
       "      <td>3507</td>\n",
       "      <td>3340</td>\n",
       "      <td>6848</td>\n",
       "    </tr>\n",
       "  </tbody>\n",
       "</table>\n",
       "</div>"
      ],
      "text/plain": [
       "  Expense Status Pending At Expense Logged by Audit Status Audit Comments  \\\n",
       "0       Approved        NaN           Bottler          NaN            NaN   \n",
       "1       Approved        NaN           Bottler          NaN            NaN   \n",
       "2       Approved        NaN           Bottler          NaN            NaN   \n",
       "3       Approved        NaN           Bottler          NaN            NaN   \n",
       "4       Approved        NaN           Bottler          NaN            NaN   \n",
       "\n",
       "       Tier 1      Tier 2             Tier 3  Year  Month    Country  \\\n",
       "0  STB - Push  Unilateral  Capital Equipment  2024     10  ARGENTINA   \n",
       "1  STB - Push  Unilateral               CDAs  2024      5  ARGENTINA   \n",
       "2  STB - Push  Unilateral               CDAs  2024      2  ARGENTINA   \n",
       "3  STB - Push  Unilateral               CDAs  2024      9  ARGENTINA   \n",
       "4  STB - Push  Unilateral  Capital Equipment  2024     10  ARGENTINA   \n",
       "\n",
       "      Region       Category     Brand  Pep Expense  Bottler Expense  \\\n",
       "0  LAB South  Energy Drinks  Rockstar          417              397   \n",
       "1  LAB South   Sport Drinks  Gatorade          159              151   \n",
       "2  LAB South            CSD     Pepsi       104665            99679   \n",
       "3  LAB South            CSD     Pepsi         9532             9078   \n",
       "4  LAB South   Sport Drinks  Gatorade         3507             3340   \n",
       "\n",
       "   Total Expense  \n",
       "0            814  \n",
       "1            310  \n",
       "2         204345  \n",
       "3          18610  \n",
       "4           6848  "
      ]
     },
     "execution_count": 29,
     "metadata": {},
     "output_type": "execute_result"
    }
   ],
   "source": [
    "df_expenses.head()"
   ]
  },
  {
   "cell_type": "code",
   "execution_count": 30,
   "id": "346818d9",
   "metadata": {},
   "outputs": [],
   "source": [
    "filtered_df = df_expenses[\n",
    "    (df_expenses['Brand'].str.strip().str.upper() == 'PEPSI') &\n",
    "    (df_expenses['Country'].str.strip().str.upper() == 'MEXICO') &\n",
    "    (df_expenses['Year'] == 2025) &\n",
    "    (df_expenses['Month'] >= 1) & (df_expenses['Month'] <= 7)\n",
    "]"
   ]
  },
  {
   "cell_type": "code",
   "execution_count": 31,
   "id": "64ecac0b",
   "metadata": {},
   "outputs": [
    {
     "data": {
      "text/plain": [
       "np.int64(3283126)"
      ]
     },
     "execution_count": 31,
     "metadata": {},
     "output_type": "execute_result"
    }
   ],
   "source": [
    "filtered_df['Total Expense'].sum()"
   ]
  },
  {
   "cell_type": "code",
   "execution_count": 32,
   "id": "da8f0f91",
   "metadata": {},
   "outputs": [
    {
     "data": {
      "text/html": [
       "<div>\n",
       "<style scoped>\n",
       "    .dataframe tbody tr th:only-of-type {\n",
       "        vertical-align: middle;\n",
       "    }\n",
       "\n",
       "    .dataframe tbody tr th {\n",
       "        vertical-align: top;\n",
       "    }\n",
       "\n",
       "    .dataframe thead th {\n",
       "        text-align: right;\n",
       "    }\n",
       "</style>\n",
       "<table border=\"1\" class=\"dataframe\">\n",
       "  <thead>\n",
       "    <tr style=\"text-align: right;\">\n",
       "      <th></th>\n",
       "      <th>Tier 1</th>\n",
       "      <th>Total Expense</th>\n",
       "    </tr>\n",
       "  </thead>\n",
       "  <tbody>\n",
       "    <tr>\n",
       "      <th>0</th>\n",
       "      <td>Pull-Non-Working</td>\n",
       "      <td>2049</td>\n",
       "    </tr>\n",
       "    <tr>\n",
       "      <th>1</th>\n",
       "      <td>Pull-Working</td>\n",
       "      <td>1469304</td>\n",
       "    </tr>\n",
       "    <tr>\n",
       "      <th>2</th>\n",
       "      <td>STB - Push</td>\n",
       "      <td>1811773</td>\n",
       "    </tr>\n",
       "  </tbody>\n",
       "</table>\n",
       "</div>"
      ],
      "text/plain": [
       "             Tier 1  Total Expense\n",
       "0  Pull-Non-Working           2049\n",
       "1      Pull-Working        1469304\n",
       "2        STB - Push        1811773"
      ]
     },
     "execution_count": 32,
     "metadata": {},
     "output_type": "execute_result"
    }
   ],
   "source": [
    "filtered_df.groupby(['Tier 1'], as_index=False)['Total Expense'].sum()"
   ]
  },
  {
   "cell_type": "code",
   "execution_count": 22,
   "id": "8d32afb4",
   "metadata": {},
   "outputs": [
    {
     "data": {
      "text/plain": [
       "array([2025, 2024])"
      ]
     },
     "execution_count": 22,
     "metadata": {},
     "output_type": "execute_result"
    }
   ],
   "source": [
    "filtered_df['Year'].unique()"
   ]
  },
  {
   "cell_type": "code",
   "execution_count": 7,
   "id": "dd7a4b35",
   "metadata": {},
   "outputs": [],
   "source": [
    "df_budget = pd.read_csv(\n",
    "    f\"{file_path}/data/Budget_RB.csv\",\n",
    "    usecols=[\n",
    "        \"Region\",\n",
    "        \"Country\", \n",
    "        \"Year\", \n",
    "        \"Category\", \n",
    "        \"Brand\", \n",
    "        \"Tier 1\",\n",
    "        \"Tier 2\", \n",
    "        \"Tier 3\", \n",
    "        \"Pep Budget\", \n",
    "        \"Bottler Budget\", \n",
    "        \"Budget\"\n",
    "    ]\n",
    ")\n",
    "# Preprocessing\n",
    "for col in ['Pep Budget', 'Bottler Budget', 'Budget']:\n",
    "    df_budget[col] = df_budget[col].fillna(0)\n",
    "    df_budget[col] = df_budget[col].astype(int)\n",
    "# Renaming columns\n",
    "df_budget = df_budget.rename(\n",
    "    columns={\n",
    "        'Budget': 'Total Budget'\n",
    "    }\n",
    ")"
   ]
  },
  {
   "cell_type": "code",
   "execution_count": 8,
   "id": "771efdcd",
   "metadata": {},
   "outputs": [
    {
     "data": {
      "text/html": [
       "<div>\n",
       "<style scoped>\n",
       "    .dataframe tbody tr th:only-of-type {\n",
       "        vertical-align: middle;\n",
       "    }\n",
       "\n",
       "    .dataframe tbody tr th {\n",
       "        vertical-align: top;\n",
       "    }\n",
       "\n",
       "    .dataframe thead th {\n",
       "        text-align: right;\n",
       "    }\n",
       "</style>\n",
       "<table border=\"1\" class=\"dataframe\">\n",
       "  <thead>\n",
       "    <tr style=\"text-align: right;\">\n",
       "      <th></th>\n",
       "      <th>Region</th>\n",
       "      <th>Country</th>\n",
       "      <th>Year</th>\n",
       "      <th>Brand</th>\n",
       "      <th>Tier 1</th>\n",
       "      <th>Tier 2</th>\n",
       "      <th>Tier 3</th>\n",
       "      <th>Total Budget</th>\n",
       "      <th>Pep Budget</th>\n",
       "      <th>Bottler Budget</th>\n",
       "      <th>Category</th>\n",
       "    </tr>\n",
       "  </thead>\n",
       "  <tbody>\n",
       "    <tr>\n",
       "      <th>0</th>\n",
       "      <td>LAB Mexico</td>\n",
       "      <td>Mexico</td>\n",
       "      <td>2025</td>\n",
       "      <td>Be-Light</td>\n",
       "      <td>Pull-Non-Working</td>\n",
       "      <td>Ad Production</td>\n",
       "      <td>Digital Ad Production</td>\n",
       "      <td>0</td>\n",
       "      <td>0</td>\n",
       "      <td>0</td>\n",
       "      <td>Water</td>\n",
       "    </tr>\n",
       "    <tr>\n",
       "      <th>1</th>\n",
       "      <td>LAB Mexico</td>\n",
       "      <td>Mexico</td>\n",
       "      <td>2025</td>\n",
       "      <td>Be-Light</td>\n",
       "      <td>Pull-Non-Working</td>\n",
       "      <td>Ad Production</td>\n",
       "      <td>Other Ad Production</td>\n",
       "      <td>0</td>\n",
       "      <td>0</td>\n",
       "      <td>0</td>\n",
       "      <td>Water</td>\n",
       "    </tr>\n",
       "    <tr>\n",
       "      <th>2</th>\n",
       "      <td>LAB Mexico</td>\n",
       "      <td>Mexico</td>\n",
       "      <td>2025</td>\n",
       "      <td>Be-Light</td>\n",
       "      <td>Pull-Non-Working</td>\n",
       "      <td>Ad Production</td>\n",
       "      <td>TV Print Radio OOH Prod</td>\n",
       "      <td>491755</td>\n",
       "      <td>491755</td>\n",
       "      <td>0</td>\n",
       "      <td>Water</td>\n",
       "    </tr>\n",
       "    <tr>\n",
       "      <th>3</th>\n",
       "      <td>LAB Mexico</td>\n",
       "      <td>Mexico</td>\n",
       "      <td>2025</td>\n",
       "      <td>Be-Light</td>\n",
       "      <td>Pull-Non-Working</td>\n",
       "      <td>Agency Fees</td>\n",
       "      <td>Creative Agency Fees</td>\n",
       "      <td>0</td>\n",
       "      <td>0</td>\n",
       "      <td>0</td>\n",
       "      <td>Water</td>\n",
       "    </tr>\n",
       "    <tr>\n",
       "      <th>4</th>\n",
       "      <td>LAB Mexico</td>\n",
       "      <td>Mexico</td>\n",
       "      <td>2025</td>\n",
       "      <td>Be-Light</td>\n",
       "      <td>Pull-Non-Working</td>\n",
       "      <td>Agency Fees</td>\n",
       "      <td>In Store and POS Design/Development</td>\n",
       "      <td>0</td>\n",
       "      <td>0</td>\n",
       "      <td>0</td>\n",
       "      <td>Water</td>\n",
       "    </tr>\n",
       "  </tbody>\n",
       "</table>\n",
       "</div>"
      ],
      "text/plain": [
       "       Region Country  Year     Brand            Tier 1         Tier 2  \\\n",
       "0  LAB Mexico  Mexico  2025  Be-Light  Pull-Non-Working  Ad Production   \n",
       "1  LAB Mexico  Mexico  2025  Be-Light  Pull-Non-Working  Ad Production   \n",
       "2  LAB Mexico  Mexico  2025  Be-Light  Pull-Non-Working  Ad Production   \n",
       "3  LAB Mexico  Mexico  2025  Be-Light  Pull-Non-Working    Agency Fees   \n",
       "4  LAB Mexico  Mexico  2025  Be-Light  Pull-Non-Working    Agency Fees   \n",
       "\n",
       "                                Tier 3  Total Budget  Pep Budget  \\\n",
       "0                Digital Ad Production             0           0   \n",
       "1                  Other Ad Production             0           0   \n",
       "2              TV Print Radio OOH Prod        491755      491755   \n",
       "3                 Creative Agency Fees             0           0   \n",
       "4  In Store and POS Design/Development             0           0   \n",
       "\n",
       "   Bottler Budget Category  \n",
       "0               0    Water  \n",
       "1               0    Water  \n",
       "2               0    Water  \n",
       "3               0    Water  \n",
       "4               0    Water  "
      ]
     },
     "execution_count": 8,
     "metadata": {},
     "output_type": "execute_result"
    }
   ],
   "source": [
    "df_budget.head()"
   ]
  },
  {
   "cell_type": "code",
   "execution_count": 9,
   "id": "b6f041bc",
   "metadata": {},
   "outputs": [],
   "source": [
    "multi_agent_obj = MultiAgentSystem(\n",
    "    model_name='gpt-4o',\n",
    "    api_key=llm_keys['open_ai'],\n",
    "    expense_dataset=df_expenses,\n",
    "    budget_dataset=df_budget,\n",
    "    plot_path='jupyter_plots',\n",
    ")"
   ]
  },
  {
   "cell_type": "code",
   "execution_count": 24,
   "id": "5c3fcd5a",
   "metadata": {},
   "outputs": [],
   "source": [
    "# Category must also be included"
   ]
  },
  {
   "cell_type": "code",
   "execution_count": 10,
   "id": "46953a35",
   "metadata": {},
   "outputs": [],
   "source": [
    "# Expense\n",
    "# question = 'What are the Tier 1 expenses in 2024 for Brazil?'\n",
    "# question = \"How are the Tier 1 expenses in CY varying for Mexico & Brazil for Pepsi brand?\""
   ]
  },
  {
   "cell_type": "code",
   "execution_count": 11,
   "id": "5c83f660",
   "metadata": {},
   "outputs": [],
   "source": [
    "# Budget\n",
    "question = 'What is the total budget allocated for Mexico in 2025?'\n",
    "# question = \"Can you give me split of Tier 1 items for each Brazil & Mexico for 2025?\""
   ]
  },
  {
   "cell_type": "code",
   "execution_count": 12,
   "id": "2c9ca966",
   "metadata": {},
   "outputs": [],
   "source": [
    "result = multi_agent_obj.graph.nodes['supervisor'].invoke(\n",
    "    {\n",
    "        'question': question\n",
    "    }\n",
    ")"
   ]
  },
  {
   "cell_type": "code",
   "execution_count": 13,
   "id": "121f2069",
   "metadata": {},
   "outputs": [
    {
     "data": {
      "text/plain": [
       "{'result': {'thought_process': 'The user is asking for specific budget data for Mexico in 2025. This requires data analysis to retrieve the budget information for that year and region. The Insight Agent is best suited for this task as it can analyze budget data and provide the required information.',\n",
       "  'next': 'Insight Agent',\n",
       "  'enriched_question': 'What is the total budget allocated for Mexico in 2025?'},\n",
       " 'messages': [AIMessage(content='The user is asking for specific budget data for Mexico in 2025. This requires data analysis to retrieve the budget information for that year and region. The Insight Agent is best suited for this task as it can analyze budget data and provide the required information.', additional_kwargs={}, response_metadata={}, name='supervisor')],\n",
       " 'next': 'Insight Agent'}"
      ]
     },
     "execution_count": 13,
     "metadata": {},
     "output_type": "execute_result"
    }
   ],
   "source": [
    "result"
   ]
  },
  {
   "cell_type": "code",
   "execution_count": 14,
   "id": "e762ddee",
   "metadata": {
    "scrolled": true
   },
   "outputs": [
    {
     "name": "stdout",
     "output_type": "stream",
     "text": [
      "\n",
      "\n",
      "\u001b[1m> Entering new AgentExecutor chain...\u001b[0m\n",
      "\u001b[32;1m\u001b[1;3m\n",
      "Invoking: `analyze_budget_data` with `Calculate the total budget allocated for Mexico in 2025.`\n",
      "\n",
      "\n",
      "\u001b[0mResponse Text:\n",
      "<approach>\n",
      "To calculate the total budget allocated for Mexico in 2025, I will:\n",
      "1. Filter the dataset for entries where the \"Country\" is \"Mexico\" and the \"Year\" is 2025.\n",
      "2. Sum the \"Total Budget\" column for these filtered entries to get the total budget allocated for Mexico in 2025.\n",
      "</approach>\n",
      "\n",
      "<code>\n",
      "import pandas as pd\n",
      "\n",
      "# Normalize the 'Country' and 'Year' columns for comparison\n",
      "df['Country'] = df['Country'].str.strip().str.upper()\n",
      "df['Year'] = df['Year'].astype(int)\n",
      "\n",
      "# Filter the dataset for Mexico in 2025\n",
      "filtered_df = df[(df['Country'] == 'MEXICO') & (df['Year'] == 2025)]\n",
      "\n",
      "# Calculate the total budget\n",
      "total_budget_mexico_2025 = filtered_df['Total Budget'].sum()\n",
      "total_budget_mexico_2025\n",
      "</code>\n",
      "\n",
      "<answer>\n",
      "The total budget allocated for Mexico in 2025 is {total_budget_mexico_2025}.\n",
      "</answer>\n",
      "--------------------------------------------------------------------------------------------------------------\n",
      "Segments:\n",
      "{'approach': 'To calculate the total budget allocated for Mexico in 2025, I will:\\n1. Filter the dataset for entries where the \"Country\" is \"Mexico\" and the \"Year\" is 2025.\\n2. Sum the \"Total Budget\" column for these filtered entries to get the total budget allocated for Mexico in 2025.', 'code': \"import pandas as pd\\n\\n# Normalize the 'Country' and 'Year' columns for comparison\\ndf['Country'] = df['Country'].str.strip().str.upper()\\ndf['Year'] = df['Year'].astype(int)\\n\\n# Filter the dataset for Mexico in 2025\\nfiltered_df = df[(df['Country'] == 'MEXICO') & (df['Year'] == 2025)]\\n\\n# Calculate the total budget\\ntotal_budget_mexico_2025 = filtered_df['Total Budget'].sum()\\ntotal_budget_mexico_2025\", 'answer': 'The total budget allocated for Mexico in 2025 is {total_budget_mexico_2025}.'}\n",
      "--------------------------------------------------------------------------------------------------------------\n",
      "\u001b[33;1m\u001b[1;3m{'approach': 'To calculate the total budget allocated for Mexico in 2025, I will:\\n1. Filter the dataset for entries where the \"Country\" is \"Mexico\" and the \"Year\" is 2025.\\n2. Sum the \"Total Budget\" column for these filtered entries to get the total budget allocated for Mexico in 2025.', 'answer': 'The total budget allocated for Mexico in 2025 is 5742565224.', 'figure': None, 'code': \"import pandas as pd\\n\\n# Normalize the 'Country' and 'Year' columns for comparison\\ndf['Country'] = df['Country'].str.strip().str.upper()\\ndf['Year'] = df['Year'].astype(int)\\n\\n# Filter the dataset for Mexico in 2025\\nfiltered_df = df[(df['Country'] == 'MEXICO') & (df['Year'] == 2025)]\\n\\n# Calculate the total budget\\ntotal_budget_mexico_2025 = filtered_df['Total Budget'].sum()\\ntotal_budget_mexico_2025\", 'chart_code': None}\u001b[0m\u001b[32;1m\u001b[1;3m<answer>The total budget allocated for Mexico in 2025 is $5,742,565,224.</answer><graph>None</graph>\u001b[0m\n",
      "\n",
      "\u001b[1m> Finished chain.\u001b[0m\n"
     ]
    }
   ],
   "source": [
    "result2 = multi_agent_obj.graph.nodes['Insight Agent'].invoke(\n",
    "    {\n",
    "        'enriched_question': result['result']['enriched_question']\n",
    "    }\n",
    ")"
   ]
  },
  {
   "cell_type": "code",
   "execution_count": 15,
   "id": "33be03fc",
   "metadata": {},
   "outputs": [
    {
     "data": {
      "text/plain": [
       "dict_keys(['input', 'history', 'output', 'recorder_steps', 'agent'])"
      ]
     },
     "execution_count": 15,
     "metadata": {},
     "output_type": "execute_result"
    }
   ],
   "source": [
    "result2.keys()"
   ]
  },
  {
   "cell_type": "code",
   "execution_count": 16,
   "id": "729721e6",
   "metadata": {},
   "outputs": [
    {
     "data": {
      "text/plain": [
       "'<answer>The total budget allocated for Mexico in 2025 is $5,742,565,224.</answer><graph>None</graph>'"
      ]
     },
     "execution_count": 16,
     "metadata": {},
     "output_type": "execute_result"
    }
   ],
   "source": [
    "result2['output']"
   ]
  },
  {
   "cell_type": "code",
   "execution_count": 17,
   "id": "54984635",
   "metadata": {},
   "outputs": [
    {
     "data": {
      "text/plain": [
       "2"
      ]
     },
     "execution_count": 17,
     "metadata": {},
     "output_type": "execute_result"
    }
   ],
   "source": [
    "len(result2['recorder_steps'])"
   ]
  },
  {
   "cell_type": "code",
   "execution_count": 18,
   "id": "e6d7d570",
   "metadata": {},
   "outputs": [
    {
     "data": {
      "text/plain": [
       "2"
      ]
     },
     "execution_count": 18,
     "metadata": {},
     "output_type": "execute_result"
    }
   ],
   "source": [
    "len(result2['recorder_steps'][-2:])"
   ]
  },
  {
   "cell_type": "code",
   "execution_count": 19,
   "id": "8431fcba",
   "metadata": {},
   "outputs": [
    {
     "data": {
      "text/plain": [
       "'What is the total budget allocated for Mexico in 2025?'"
      ]
     },
     "execution_count": 19,
     "metadata": {},
     "output_type": "execute_result"
    }
   ],
   "source": [
    "result2['input']"
   ]
  },
  {
   "cell_type": "code",
   "execution_count": 20,
   "id": "86039367",
   "metadata": {},
   "outputs": [
    {
     "data": {
      "text/plain": [
       "'To answer this question, I will need to:\\n1. Filter the dataset for entries where the \"Country\" is \"Mexico\" and the \"Year\" is 2025.\\n2. Sum the \"Total Budget\" for these filtered entries to get the total budget allocated for Mexico in 2025.'"
      ]
     },
     "execution_count": 20,
     "metadata": {},
     "output_type": "execute_result"
    }
   ],
   "source": [
    "result2['recorder_steps'][0]['observation']['approach']"
   ]
  },
  {
   "cell_type": "code",
   "execution_count": 21,
   "id": "e876ab7e",
   "metadata": {},
   "outputs": [
    {
     "data": {
      "text/plain": [
       "'The total budget allocated for Mexico in 2025 is 5742565224.'"
      ]
     },
     "execution_count": 21,
     "metadata": {},
     "output_type": "execute_result"
    }
   ],
   "source": [
    "result2['recorder_steps'][0]['observation']['answer']"
   ]
  },
  {
   "cell_type": "code",
   "execution_count": 22,
   "id": "86236206",
   "metadata": {},
   "outputs": [
    {
     "data": {
      "text/plain": [
       "{'final_answer': '<answer>The total budget allocated for Mexico in 2025 is $5,742,565,224.</answer><graph>None</graph>'}"
      ]
     },
     "execution_count": 22,
     "metadata": {},
     "output_type": "execute_result"
    }
   ],
   "source": [
    "result2['recorder_steps'][1]"
   ]
  },
  {
   "cell_type": "code",
   "execution_count": 23,
   "id": "92a3ae0f",
   "metadata": {},
   "outputs": [
    {
     "data": {
      "text/plain": [
       "True"
      ]
     },
     "execution_count": 23,
     "metadata": {},
     "output_type": "execute_result"
    }
   ],
   "source": [
    "result2['output'] == result2['recorder_steps'][1]['final_answer']"
   ]
  },
  {
   "cell_type": "code",
   "execution_count": 24,
   "id": "3193cb2c",
   "metadata": {},
   "outputs": [
    {
     "data": {
      "text/plain": [
       "'What is the total budget allocated for Mexico in 2025?'"
      ]
     },
     "execution_count": 24,
     "metadata": {},
     "output_type": "execute_result"
    }
   ],
   "source": [
    "question"
   ]
  },
  {
   "cell_type": "code",
   "execution_count": 25,
   "id": "c719f00f",
   "metadata": {
    "scrolled": true
   },
   "outputs": [
    {
     "name": "stdout",
     "output_type": "stream",
     "text": [
      "\n",
      "\n",
      "\u001b[1m> Entering new AgentExecutor chain...\u001b[0m\n",
      "\u001b[32;1m\u001b[1;3m\n",
      "Invoking: `analyze_budget_data` with `Calculate the total budget allocated for Mexico in 2025.`\n",
      "\n",
      "\n",
      "\u001b[0mResponse Text:\n",
      "<approach>\n",
      "To calculate the total budget allocated for Mexico in 2025, I will:\n",
      "1. Filter the dataset for entries where the \"Country\" is \"Mexico\" and the \"Year\" is 2025.\n",
      "2. Sum the \"Total Budget\" column for these filtered entries to get the total budget allocated for Mexico in 2025.\n",
      "</approach>\n",
      "\n",
      "<code>\n",
      "import pandas as pd\n",
      "\n",
      "# Assuming df is the dataframe containing the budget data\n",
      "# Normalize the 'Country' and 'Year' columns for comparison\n",
      "df['Country'] = df['Country'].str.strip().str.upper()\n",
      "df['Year'] = df['Year'].astype(int)\n",
      "\n",
      "# Filter the dataframe for Mexico in 2025\n",
      "filtered_df = df[(df['Country'] == 'MEXICO') & (df['Year'] == 2025)]\n",
      "\n",
      "# Calculate the total budget\n",
      "total_budget_mexico_2025 = filtered_df['Total Budget'].sum()\n",
      "total_budget_mexico_2025\n",
      "</code>\n",
      "\n",
      "<answer>\n",
      "The total budget allocated for Mexico in 2025 is {total_budget_mexico_2025}.\n",
      "</answer>\n",
      "--------------------------------------------------------------------------------------------------------------\n",
      "Segments:\n",
      "{'approach': 'To calculate the total budget allocated for Mexico in 2025, I will:\\n1. Filter the dataset for entries where the \"Country\" is \"Mexico\" and the \"Year\" is 2025.\\n2. Sum the \"Total Budget\" column for these filtered entries to get the total budget allocated for Mexico in 2025.', 'code': \"import pandas as pd\\n\\n# Assuming df is the dataframe containing the budget data\\n# Normalize the 'Country' and 'Year' columns for comparison\\ndf['Country'] = df['Country'].str.strip().str.upper()\\ndf['Year'] = df['Year'].astype(int)\\n\\n# Filter the dataframe for Mexico in 2025\\nfiltered_df = df[(df['Country'] == 'MEXICO') & (df['Year'] == 2025)]\\n\\n# Calculate the total budget\\ntotal_budget_mexico_2025 = filtered_df['Total Budget'].sum()\\ntotal_budget_mexico_2025\", 'answer': 'The total budget allocated for Mexico in 2025 is {total_budget_mexico_2025}.'}\n",
      "--------------------------------------------------------------------------------------------------------------\n",
      "\u001b[33;1m\u001b[1;3m{'approach': 'To calculate the total budget allocated for Mexico in 2025, I will:\\n1. Filter the dataset for entries where the \"Country\" is \"Mexico\" and the \"Year\" is 2025.\\n2. Sum the \"Total Budget\" column for these filtered entries to get the total budget allocated for Mexico in 2025.', 'answer': 'The total budget allocated for Mexico in 2025 is 5742565224.', 'figure': None, 'code': \"import pandas as pd\\n\\n# Assuming df is the dataframe containing the budget data\\n# Normalize the 'Country' and 'Year' columns for comparison\\ndf['Country'] = df['Country'].str.strip().str.upper()\\ndf['Year'] = df['Year'].astype(int)\\n\\n# Filter the dataframe for Mexico in 2025\\nfiltered_df = df[(df['Country'] == 'MEXICO') & (df['Year'] == 2025)]\\n\\n# Calculate the total budget\\ntotal_budget_mexico_2025 = filtered_df['Total Budget'].sum()\\ntotal_budget_mexico_2025\", 'chart_code': None}\u001b[0m\u001b[32;1m\u001b[1;3m<answer>The total budget allocated for Mexico in 2025 is $5,742,565,224.</answer><graph>None</graph>\u001b[0m\n",
      "\n",
      "\u001b[1m> Finished chain.\u001b[0m\n"
     ]
    }
   ],
   "source": [
    "result3 = multi_agent_obj.graph.invoke(\n",
    "    {\n",
    "        'question': question\n",
    "    }\n",
    ")"
   ]
  },
  {
   "cell_type": "code",
   "execution_count": 26,
   "id": "d0bb77d8",
   "metadata": {},
   "outputs": [
    {
     "data": {
      "text/plain": [
       "{'result': {'thought_process': \"The Insight Agent has provided the total budget allocated for Mexico in 2025. The user's query has been answered with the specific data requested.\",\n",
       "  'next': 'FINISH',\n",
       "  'direct_response': 'The total budget allocated for Mexico in 2025 is $5,742,565,224.',\n",
       "  'enriched_question': 'What is the total budget allocated for Mexico in 2025?'},\n",
       " 'messages': [AIMessage(content=\"The Insight Agent has provided the total budget allocated for Mexico in 2025. The user's query has been answered with the specific data requested.\", additional_kwargs={}, response_metadata={}, name='supervisor')],\n",
       " 'next': 'FINISH'}"
      ]
     },
     "execution_count": 26,
     "metadata": {},
     "output_type": "execute_result"
    }
   ],
   "source": [
    "result3"
   ]
  },
  {
   "cell_type": "code",
   "execution_count": null,
   "id": "37d21028",
   "metadata": {},
   "outputs": [],
   "source": []
  }
 ],
 "metadata": {
  "hide_input": false,
  "kernelspec": {
   "display_name": "Python 3.12.11 (pepsico_gen_ai)",
   "language": "python",
   "name": "pepsico_gen_ai"
  },
  "language_info": {
   "codemirror_mode": {
    "name": "ipython",
    "version": 3
   },
   "file_extension": ".py",
   "mimetype": "text/x-python",
   "name": "python",
   "nbconvert_exporter": "python",
   "pygments_lexer": "ipython3",
   "version": "3.12.11"
  },
  "toc": {
   "base_numbering": 1,
   "nav_menu": {},
   "number_sections": false,
   "sideBar": true,
   "skip_h1_title": false,
   "title_cell": "Table of Contents",
   "title_sidebar": "Contents",
   "toc_cell": false,
   "toc_position": {},
   "toc_section_display": true,
   "toc_window_display": false
  }
 },
 "nbformat": 4,
 "nbformat_minor": 5
}
