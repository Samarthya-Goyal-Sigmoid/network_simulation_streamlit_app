{
 "cells": [
  {
   "cell_type": "code",
   "execution_count": 1,
   "id": "5c9ccf47",
   "metadata": {},
   "outputs": [],
   "source": [
    "import warnings\n",
    "warnings.filterwarnings('ignore')\n",
    "import yaml\n",
    "import pandas as pd"
   ]
  },
  {
   "cell_type": "code",
   "execution_count": 2,
   "id": "84fcc6b9",
   "metadata": {},
   "outputs": [],
   "source": [
    "from multi_agents import MultiAgentSystem"
   ]
  },
  {
   "cell_type": "code",
   "execution_count": 3,
   "id": "42d53da2",
   "metadata": {},
   "outputs": [],
   "source": [
    "with open(\"/Users/sigmoid/Downloads/llm_keys.yaml\", \"r\") as f:\n",
    "    llm_keys = yaml.safe_load(f)"
   ]
  },
  {
   "cell_type": "code",
   "execution_count": 4,
   "id": "598277ba",
   "metadata": {},
   "outputs": [],
   "source": [
    "file_path = '/Users/sigmoid/Documents/PepsiCo - Gen AI PoC/lift_bot/src'"
   ]
  },
  {
   "cell_type": "code",
   "execution_count": 5,
   "id": "dd2b4162",
   "metadata": {},
   "outputs": [],
   "source": [
    "# Load data (MODIFIED for new structure)\n",
    "df_expenses = pd.read_csv(f\"{file_path}/data/Expense.csv\")"
   ]
  },
  {
   "cell_type": "code",
   "execution_count": 6,
   "id": "3d3a05fa",
   "metadata": {},
   "outputs": [],
   "source": [
    "# Convert to correct format\n",
    "df_expenses[\"Expense\"] = (\n",
    "    df_expenses[\"Expense\"]\n",
    "    .str.replace(\",\", \"\", regex=False)\n",
    "    .astype(float)\n",
    "    .astype(int)\n",
    ")"
   ]
  },
  {
   "cell_type": "code",
   "execution_count": 7,
   "id": "af15e0ea",
   "metadata": {},
   "outputs": [
    {
     "data": {
      "text/html": [
       "<div>\n",
       "<style scoped>\n",
       "    .dataframe tbody tr th:only-of-type {\n",
       "        vertical-align: middle;\n",
       "    }\n",
       "\n",
       "    .dataframe tbody tr th {\n",
       "        vertical-align: top;\n",
       "    }\n",
       "\n",
       "    .dataframe thead th {\n",
       "        text-align: right;\n",
       "    }\n",
       "</style>\n",
       "<table border=\"1\" class=\"dataframe\">\n",
       "  <thead>\n",
       "    <tr style=\"text-align: right;\">\n",
       "      <th></th>\n",
       "      <th>Country</th>\n",
       "      <th>Year</th>\n",
       "      <th>Month</th>\n",
       "      <th>Category</th>\n",
       "      <th>Brand</th>\n",
       "      <th>Data Type</th>\n",
       "      <th>Tier 1</th>\n",
       "      <th>Tier 2</th>\n",
       "      <th>Tier 3</th>\n",
       "      <th>Expense</th>\n",
       "      <th>Status</th>\n",
       "      <th>Count</th>\n",
       "    </tr>\n",
       "  </thead>\n",
       "  <tbody>\n",
       "    <tr>\n",
       "      <th>0</th>\n",
       "      <td>Brazil</td>\n",
       "      <td>2022</td>\n",
       "      <td>1</td>\n",
       "      <td>CSD Colas</td>\n",
       "      <td>PEPSI</td>\n",
       "      <td>A&amp;M</td>\n",
       "      <td>PULL - Non working</td>\n",
       "      <td>Agency Fees</td>\n",
       "      <td>Creative Agency Fees</td>\n",
       "      <td>125</td>\n",
       "      <td>Approved</td>\n",
       "      <td>1</td>\n",
       "    </tr>\n",
       "    <tr>\n",
       "      <th>1</th>\n",
       "      <td>Brazil</td>\n",
       "      <td>2022</td>\n",
       "      <td>1</td>\n",
       "      <td>CSD Colas</td>\n",
       "      <td>PEPSI</td>\n",
       "      <td>A&amp;M</td>\n",
       "      <td>PULL - Non working</td>\n",
       "      <td>Agency Fees</td>\n",
       "      <td>Media Agency Fees</td>\n",
       "      <td>20603</td>\n",
       "      <td>Approved</td>\n",
       "      <td>1</td>\n",
       "    </tr>\n",
       "    <tr>\n",
       "      <th>2</th>\n",
       "      <td>Brazil</td>\n",
       "      <td>2022</td>\n",
       "      <td>1</td>\n",
       "      <td>CSD Colas</td>\n",
       "      <td>PEPSI</td>\n",
       "      <td>A&amp;M</td>\n",
       "      <td>PULL - Non working</td>\n",
       "      <td>Agency Fees</td>\n",
       "      <td>Social Media/Influence Marketing</td>\n",
       "      <td>847</td>\n",
       "      <td>Approved</td>\n",
       "      <td>1</td>\n",
       "    </tr>\n",
       "    <tr>\n",
       "      <th>3</th>\n",
       "      <td>Brazil</td>\n",
       "      <td>2022</td>\n",
       "      <td>1</td>\n",
       "      <td>CSD Colas</td>\n",
       "      <td>PEPSI</td>\n",
       "      <td>A&amp;M</td>\n",
       "      <td>PULL - Non working</td>\n",
       "      <td>Insight</td>\n",
       "      <td>Advanced Analytics</td>\n",
       "      <td>39123</td>\n",
       "      <td>Approved</td>\n",
       "      <td>1</td>\n",
       "    </tr>\n",
       "    <tr>\n",
       "      <th>4</th>\n",
       "      <td>Brazil</td>\n",
       "      <td>2022</td>\n",
       "      <td>1</td>\n",
       "      <td>CSD Colas</td>\n",
       "      <td>PEPSI</td>\n",
       "      <td>A&amp;M</td>\n",
       "      <td>PULL - Non working</td>\n",
       "      <td>Insight</td>\n",
       "      <td>Consumer Tracking</td>\n",
       "      <td>1951</td>\n",
       "      <td>Approved</td>\n",
       "      <td>1</td>\n",
       "    </tr>\n",
       "  </tbody>\n",
       "</table>\n",
       "</div>"
      ],
      "text/plain": [
       "  Country  Year  Month   Category  Brand Data Type              Tier 1  \\\n",
       "0  Brazil  2022      1  CSD Colas  PEPSI       A&M  PULL - Non working   \n",
       "1  Brazil  2022      1  CSD Colas  PEPSI       A&M  PULL - Non working   \n",
       "2  Brazil  2022      1  CSD Colas  PEPSI       A&M  PULL - Non working   \n",
       "3  Brazil  2022      1  CSD Colas  PEPSI       A&M  PULL - Non working   \n",
       "4  Brazil  2022      1  CSD Colas  PEPSI       A&M  PULL - Non working   \n",
       "\n",
       "        Tier 2                            Tier 3  Expense    Status  Count  \n",
       "0  Agency Fees              Creative Agency Fees      125  Approved      1  \n",
       "1  Agency Fees                 Media Agency Fees    20603  Approved      1  \n",
       "2  Agency Fees  Social Media/Influence Marketing      847  Approved      1  \n",
       "3      Insight                Advanced Analytics    39123  Approved      1  \n",
       "4      Insight                 Consumer Tracking     1951  Approved      1  "
      ]
     },
     "execution_count": 7,
     "metadata": {},
     "output_type": "execute_result"
    }
   ],
   "source": [
    "df_expenses.head()"
   ]
  },
  {
   "cell_type": "code",
   "execution_count": 8,
   "id": "dd7a4b35",
   "metadata": {},
   "outputs": [],
   "source": [
    "df_budget = pd.read_csv(f\"{file_path}/data/Budget_RB.csv\")"
   ]
  },
  {
   "cell_type": "code",
   "execution_count": 9,
   "id": "771efdcd",
   "metadata": {},
   "outputs": [
    {
     "data": {
      "text/html": [
       "<div>\n",
       "<style scoped>\n",
       "    .dataframe tbody tr th:only-of-type {\n",
       "        vertical-align: middle;\n",
       "    }\n",
       "\n",
       "    .dataframe tbody tr th {\n",
       "        vertical-align: top;\n",
       "    }\n",
       "\n",
       "    .dataframe thead th {\n",
       "        text-align: right;\n",
       "    }\n",
       "</style>\n",
       "<table border=\"1\" class=\"dataframe\">\n",
       "  <thead>\n",
       "    <tr style=\"text-align: right;\">\n",
       "      <th></th>\n",
       "      <th>Region</th>\n",
       "      <th>Country</th>\n",
       "      <th>Year</th>\n",
       "      <th>Brand</th>\n",
       "      <th>Tier 1</th>\n",
       "      <th>Tier 2</th>\n",
       "      <th>Tier 3</th>\n",
       "      <th>Pep (%)</th>\n",
       "      <th>Budget</th>\n",
       "    </tr>\n",
       "  </thead>\n",
       "  <tbody>\n",
       "    <tr>\n",
       "      <th>0</th>\n",
       "      <td>LAB Mexico</td>\n",
       "      <td>Mexico</td>\n",
       "      <td>2025</td>\n",
       "      <td>Be-Light</td>\n",
       "      <td>Pull-Non-Working</td>\n",
       "      <td>Ad Production</td>\n",
       "      <td>Digital Ad Production</td>\n",
       "      <td>0.0</td>\n",
       "      <td>0</td>\n",
       "    </tr>\n",
       "    <tr>\n",
       "      <th>1</th>\n",
       "      <td>LAB Mexico</td>\n",
       "      <td>Mexico</td>\n",
       "      <td>2025</td>\n",
       "      <td>Be-Light</td>\n",
       "      <td>Pull-Non-Working</td>\n",
       "      <td>Ad Production</td>\n",
       "      <td>Other Ad Production</td>\n",
       "      <td>0.0</td>\n",
       "      <td>0</td>\n",
       "    </tr>\n",
       "    <tr>\n",
       "      <th>2</th>\n",
       "      <td>LAB Mexico</td>\n",
       "      <td>Mexico</td>\n",
       "      <td>2025</td>\n",
       "      <td>Be-Light</td>\n",
       "      <td>Pull-Non-Working</td>\n",
       "      <td>Ad Production</td>\n",
       "      <td>TV Print Radio OOH Prod</td>\n",
       "      <td>100.0</td>\n",
       "      <td>491755</td>\n",
       "    </tr>\n",
       "    <tr>\n",
       "      <th>3</th>\n",
       "      <td>LAB Mexico</td>\n",
       "      <td>Mexico</td>\n",
       "      <td>2025</td>\n",
       "      <td>Be-Light</td>\n",
       "      <td>Pull-Non-Working</td>\n",
       "      <td>Agency Fees</td>\n",
       "      <td>Creative Agency Fees</td>\n",
       "      <td>0.0</td>\n",
       "      <td>0</td>\n",
       "    </tr>\n",
       "    <tr>\n",
       "      <th>4</th>\n",
       "      <td>LAB Mexico</td>\n",
       "      <td>Mexico</td>\n",
       "      <td>2025</td>\n",
       "      <td>Be-Light</td>\n",
       "      <td>Pull-Non-Working</td>\n",
       "      <td>Agency Fees</td>\n",
       "      <td>In Store and POS Design/Development</td>\n",
       "      <td>0.0</td>\n",
       "      <td>0</td>\n",
       "    </tr>\n",
       "  </tbody>\n",
       "</table>\n",
       "</div>"
      ],
      "text/plain": [
       "       Region Country  Year     Brand            Tier 1         Tier 2  \\\n",
       "0  LAB Mexico  Mexico  2025  Be-Light  Pull-Non-Working  Ad Production   \n",
       "1  LAB Mexico  Mexico  2025  Be-Light  Pull-Non-Working  Ad Production   \n",
       "2  LAB Mexico  Mexico  2025  Be-Light  Pull-Non-Working  Ad Production   \n",
       "3  LAB Mexico  Mexico  2025  Be-Light  Pull-Non-Working    Agency Fees   \n",
       "4  LAB Mexico  Mexico  2025  Be-Light  Pull-Non-Working    Agency Fees   \n",
       "\n",
       "                                Tier 3  Pep (%)  Budget  \n",
       "0                Digital Ad Production      0.0       0  \n",
       "1                  Other Ad Production      0.0       0  \n",
       "2              TV Print Radio OOH Prod    100.0  491755  \n",
       "3                 Creative Agency Fees      0.0       0  \n",
       "4  In Store and POS Design/Development      0.0       0  "
      ]
     },
     "execution_count": 9,
     "metadata": {},
     "output_type": "execute_result"
    }
   ],
   "source": [
    "df_budget.head()"
   ]
  },
  {
   "cell_type": "code",
   "execution_count": 10,
   "id": "b6f041bc",
   "metadata": {},
   "outputs": [],
   "source": [
    "multi_agent_obj = MultiAgentSystem(\n",
    "    model_name='gpt-4o',\n",
    "    api_key=llm_keys['open_ai'],\n",
    "    expense_dataset=df_expenses,\n",
    "    budget_dataset=df_budget,\n",
    "    plot_path='jupyter_plots',\n",
    ")"
   ]
  },
  {
   "cell_type": "code",
   "execution_count": 11,
   "id": "46953a35",
   "metadata": {},
   "outputs": [],
   "source": [
    "# Expense\n",
    "# question = 'What are the Tier 1 expenses in 2024 for Brazil?'\n",
    "# question = \"How are the Tier 1 expenses in CY varying for Mexico & Brazil for Pepsi brand?\""
   ]
  },
  {
   "cell_type": "code",
   "execution_count": 12,
   "id": "b10d99aa",
   "metadata": {},
   "outputs": [],
   "source": [
    "# Budget\n",
    "question = 'What is the total budget allocated for Mexico in 2025?'\n",
    "# question = \"Can you give me split of Tier 1 items for each Brazil & Mexico for 2025?\""
   ]
  },
  {
   "cell_type": "code",
   "execution_count": 13,
   "id": "2c9ca966",
   "metadata": {},
   "outputs": [],
   "source": [
    "result = multi_agent_obj.graph.nodes['supervisor'].invoke(\n",
    "    {\n",
    "        'question': question\n",
    "    }\n",
    ")"
   ]
  },
  {
   "cell_type": "code",
   "execution_count": 14,
   "id": "121f2069",
   "metadata": {},
   "outputs": [
    {
     "data": {
      "text/plain": [
       "{'result': {'thought_process': 'The user is asking for a specific data analysis regarding the budget allocated for Mexico in 2025. This requires accessing and analyzing budget data, which falls under the responsibilities of the Insight Agent.',\n",
       "  'next': 'Insight Agent',\n",
       "  'enriched_question': 'What is the total budget allocated for Mexico in 2025?'},\n",
       " 'messages': [AIMessage(content='The user is asking for a specific data analysis regarding the budget allocated for Mexico in 2025. This requires accessing and analyzing budget data, which falls under the responsibilities of the Insight Agent.', additional_kwargs={}, response_metadata={}, name='supervisor')],\n",
       " 'next': 'Insight Agent'}"
      ]
     },
     "execution_count": 14,
     "metadata": {},
     "output_type": "execute_result"
    }
   ],
   "source": [
    "result"
   ]
  },
  {
   "cell_type": "code",
   "execution_count": 15,
   "id": "e762ddee",
   "metadata": {
    "scrolled": true
   },
   "outputs": [
    {
     "name": "stdout",
     "output_type": "stream",
     "text": [
      "\n",
      "\n",
      "\u001b[1m> Entering new AgentExecutor chain...\u001b[0m\n",
      "\u001b[32;1m\u001b[1;3m\n",
      "Invoking: `analyze_budget_data` with `Calculate the total budget allocated for Mexico in 2025.`\n",
      "\n",
      "\n",
      "\u001b[0m\u001b[33;1m\u001b[1;3m{'approach': 'To calculate the total budget allocated for Mexico in 2025, I will:\\n1. Filter the dataset for entries where the \"Country\" is \"Mexico\" and the \"Year\" is 2025.\\n2. Sum the \"Budget\" column for these filtered entries to get the total budget.', 'answer': 'The total budget allocated for Mexico in 2025 is 5742565224.', 'figure': None, 'code': \"import pandas as pd\\n\\n# Filter the dataset for Mexico in 2025\\nfiltered_df = df[(df['Country'].str.strip().str.upper() == 'MEXICO') & (df['Year'] == 2025)]\\n\\n# Calculate the total budget\\ntotal_budget_mexico_2025 = filtered_df['Budget'].sum()\\ntotal_budget_mexico_2025\", 'chart_code': None}\u001b[0m\u001b[32;1m\u001b[1;3m<answer>The total budget allocated for Mexico in 2025 is $5,742,565,224.</answer><graph>None</graph>\u001b[0m\n",
      "\n",
      "\u001b[1m> Finished chain.\u001b[0m\n"
     ]
    }
   ],
   "source": [
    "result2 = multi_agent_obj.graph.nodes['Insight Agent'].invoke(\n",
    "    {\n",
    "        'enriched_question': result['result']['enriched_question']\n",
    "    }\n",
    ")"
   ]
  },
  {
   "cell_type": "code",
   "execution_count": 16,
   "id": "33be03fc",
   "metadata": {},
   "outputs": [
    {
     "data": {
      "text/plain": [
       "dict_keys(['input', 'history', 'output', 'recorder_steps', 'agent'])"
      ]
     },
     "execution_count": 16,
     "metadata": {},
     "output_type": "execute_result"
    }
   ],
   "source": [
    "result2.keys()"
   ]
  },
  {
   "cell_type": "code",
   "execution_count": 17,
   "id": "729721e6",
   "metadata": {},
   "outputs": [
    {
     "data": {
      "text/plain": [
       "'<answer>The total budget allocated for Mexico in 2025 is $5,742,565,224.</answer><graph>None</graph>'"
      ]
     },
     "execution_count": 17,
     "metadata": {},
     "output_type": "execute_result"
    }
   ],
   "source": [
    "result2['output']"
   ]
  },
  {
   "cell_type": "code",
   "execution_count": 18,
   "id": "54984635",
   "metadata": {},
   "outputs": [
    {
     "data": {
      "text/plain": [
       "2"
      ]
     },
     "execution_count": 18,
     "metadata": {},
     "output_type": "execute_result"
    }
   ],
   "source": [
    "len(result2['recorder_steps'])"
   ]
  },
  {
   "cell_type": "code",
   "execution_count": 19,
   "id": "e6d7d570",
   "metadata": {},
   "outputs": [
    {
     "data": {
      "text/plain": [
       "2"
      ]
     },
     "execution_count": 19,
     "metadata": {},
     "output_type": "execute_result"
    }
   ],
   "source": [
    "len(result2['recorder_steps'][-2:])"
   ]
  },
  {
   "cell_type": "code",
   "execution_count": 20,
   "id": "8431fcba",
   "metadata": {},
   "outputs": [
    {
     "data": {
      "text/plain": [
       "'What is the total budget allocated for Mexico in 2025?'"
      ]
     },
     "execution_count": 20,
     "metadata": {},
     "output_type": "execute_result"
    }
   ],
   "source": [
    "result2['input']"
   ]
  },
  {
   "cell_type": "code",
   "execution_count": 21,
   "id": "86039367",
   "metadata": {},
   "outputs": [
    {
     "data": {
      "text/plain": [
       "'To calculate the total budget allocated for Mexico in 2025, I will:\\n1. Filter the dataset for entries where the \"Country\" is \"Mexico\" and the \"Year\" is 2025.\\n2. Sum the \"Budget\" column for these filtered entries to get the total budget.'"
      ]
     },
     "execution_count": 21,
     "metadata": {},
     "output_type": "execute_result"
    }
   ],
   "source": [
    "result2['recorder_steps'][0]['observation']['approach']"
   ]
  },
  {
   "cell_type": "code",
   "execution_count": 22,
   "id": "e876ab7e",
   "metadata": {},
   "outputs": [
    {
     "data": {
      "text/plain": [
       "'The total budget allocated for Mexico in 2025 is 5742565224.'"
      ]
     },
     "execution_count": 22,
     "metadata": {},
     "output_type": "execute_result"
    }
   ],
   "source": [
    "result2['recorder_steps'][0]['observation']['answer']"
   ]
  },
  {
   "cell_type": "code",
   "execution_count": 23,
   "id": "86236206",
   "metadata": {},
   "outputs": [
    {
     "data": {
      "text/plain": [
       "{'final_answer': '<answer>The total budget allocated for Mexico in 2025 is $5,742,565,224.</answer><graph>None</graph>'}"
      ]
     },
     "execution_count": 23,
     "metadata": {},
     "output_type": "execute_result"
    }
   ],
   "source": [
    "result2['recorder_steps'][1]"
   ]
  },
  {
   "cell_type": "code",
   "execution_count": 24,
   "id": "92a3ae0f",
   "metadata": {},
   "outputs": [
    {
     "data": {
      "text/plain": [
       "True"
      ]
     },
     "execution_count": 24,
     "metadata": {},
     "output_type": "execute_result"
    }
   ],
   "source": [
    "result2['output'] == result2['recorder_steps'][1]['final_answer']"
   ]
  },
  {
   "cell_type": "code",
   "execution_count": 25,
   "id": "3193cb2c",
   "metadata": {},
   "outputs": [
    {
     "data": {
      "text/plain": [
       "'What is the total budget allocated for Mexico in 2025?'"
      ]
     },
     "execution_count": 25,
     "metadata": {},
     "output_type": "execute_result"
    }
   ],
   "source": [
    "question"
   ]
  },
  {
   "cell_type": "code",
   "execution_count": 26,
   "id": "c719f00f",
   "metadata": {
    "scrolled": true
   },
   "outputs": [
    {
     "name": "stdout",
     "output_type": "stream",
     "text": [
      "\n",
      "\n",
      "\u001b[1m> Entering new AgentExecutor chain...\u001b[0m\n",
      "\u001b[32;1m\u001b[1;3m\n",
      "Invoking: `analyze_budget_data` with `Find the total budget allocated for Mexico in 2025.`\n",
      "\n",
      "\n",
      "\u001b[0m\u001b[33;1m\u001b[1;3m{'approach': 'To find the total budget allocated for Mexico in 2025, I will:\\n1. Filter the dataset for entries where the \"Country\" is \"Mexico\" and the \"Year\" is 2025.\\n2. Sum the \"Budget\" column for these filtered entries to get the total budget.', 'answer': 'The total budget allocated for Mexico in 2025 is 5742565224.', 'figure': None, 'code': \"import pandas as pd\\n\\n# Filter the dataset for Mexico in 2025\\nfiltered_df = df[(df['Country'].str.strip().str.upper() == 'MEXICO') & (df['Year'] == 2025)]\\n\\n# Calculate the total budget\\ntotal_budget_mexico_2025 = filtered_df['Budget'].sum()\\ntotal_budget_mexico_2025\", 'chart_code': None}\u001b[0m\u001b[32;1m\u001b[1;3m<answer>The total budget allocated for Mexico in 2025 is $5,742,565,224.</answer><graph>None</graph>\u001b[0m\n",
      "\n",
      "\u001b[1m> Finished chain.\u001b[0m\n"
     ]
    }
   ],
   "source": [
    "result3 = multi_agent_obj.graph.invoke(\n",
    "    {\n",
    "        'question': question\n",
    "    }\n",
    ")"
   ]
  },
  {
   "cell_type": "code",
   "execution_count": 27,
   "id": "d0bb77d8",
   "metadata": {},
   "outputs": [
    {
     "data": {
      "text/plain": [
       "{'result': {'thought_process': 'The user asked for the total budget allocated for Mexico in 2025, which required data analysis. The Insight Agent provided the answer, stating that the total budget is $5,742,565,224. Since the question has been answered, no further action is needed.',\n",
       "  'next': 'FINISH',\n",
       "  'direct_response': 'The total budget allocated for Mexico in 2025 is $5,742,565,224.',\n",
       "  'enriched_question': 'What is the total budget allocated for Mexico in 2025?'},\n",
       " 'messages': [AIMessage(content='The user asked for the total budget allocated for Mexico in 2025, which required data analysis. The Insight Agent provided the answer, stating that the total budget is $5,742,565,224. Since the question has been answered, no further action is needed.', additional_kwargs={}, response_metadata={}, name='supervisor')],\n",
       " 'next': 'FINISH'}"
      ]
     },
     "execution_count": 27,
     "metadata": {},
     "output_type": "execute_result"
    }
   ],
   "source": [
    "result3"
   ]
  },
  {
   "cell_type": "code",
   "execution_count": null,
   "id": "592861be",
   "metadata": {},
   "outputs": [],
   "source": []
  }
 ],
 "metadata": {
  "hide_input": false,
  "kernelspec": {
   "display_name": "Python 3.12.11 (pepsico_gen_ai)",
   "language": "python",
   "name": "pepsico_gen_ai"
  },
  "language_info": {
   "codemirror_mode": {
    "name": "ipython",
    "version": 3
   },
   "file_extension": ".py",
   "mimetype": "text/x-python",
   "name": "python",
   "nbconvert_exporter": "python",
   "pygments_lexer": "ipython3",
   "version": "3.12.11"
  },
  "toc": {
   "base_numbering": 1,
   "nav_menu": {},
   "number_sections": false,
   "sideBar": true,
   "skip_h1_title": false,
   "title_cell": "Table of Contents",
   "title_sidebar": "Contents",
   "toc_cell": false,
   "toc_position": {},
   "toc_section_display": true,
   "toc_window_display": false
  }
 },
 "nbformat": 4,
 "nbformat_minor": 5
}
