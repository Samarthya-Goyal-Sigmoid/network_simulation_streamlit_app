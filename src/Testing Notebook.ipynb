{
 "cells": [
  {
   "cell_type": "code",
   "execution_count": 1,
   "id": "5c9ccf47",
   "metadata": {},
   "outputs": [],
   "source": [
    "import warnings\n",
    "warnings.filterwarnings('ignore')\n",
    "import yaml\n",
    "import pandas as pd"
   ]
  },
  {
   "cell_type": "code",
   "execution_count": 2,
   "id": "84fcc6b9",
   "metadata": {},
   "outputs": [],
   "source": [
    "from multi_agents import MultiAgentSystem\n",
    "from helpers import preprocess_expense_data, preprocess_budget_data"
   ]
  },
  {
   "cell_type": "code",
   "execution_count": 3,
   "id": "42d53da2",
   "metadata": {},
   "outputs": [],
   "source": [
    "with open(\"/Users/sigmoid/Downloads/llm_keys.yaml\", \"r\") as f:\n",
    "    llm_keys = yaml.safe_load(f)"
   ]
  },
  {
   "cell_type": "code",
   "execution_count": 4,
   "id": "598277ba",
   "metadata": {},
   "outputs": [],
   "source": [
    "file_path = '/Users/sigmoid/Documents/PepsiCo - Gen AI PoC/lift_bot/src'"
   ]
  },
  {
   "cell_type": "code",
   "execution_count": 5,
   "id": "dd2b4162",
   "metadata": {},
   "outputs": [],
   "source": [
    "# Load data (MODIFIED for new structure)\n",
    "df_expenses = preprocess_expense_data(f\"{file_path}/data/Expenses_RB.csv\")"
   ]
  },
  {
   "cell_type": "code",
   "execution_count": 6,
   "id": "af15e0ea",
   "metadata": {},
   "outputs": [
    {
     "data": {
      "text/html": [
       "<div>\n",
       "<style scoped>\n",
       "    .dataframe tbody tr th:only-of-type {\n",
       "        vertical-align: middle;\n",
       "    }\n",
       "\n",
       "    .dataframe tbody tr th {\n",
       "        vertical-align: top;\n",
       "    }\n",
       "\n",
       "    .dataframe thead th {\n",
       "        text-align: right;\n",
       "    }\n",
       "</style>\n",
       "<table border=\"1\" class=\"dataframe\">\n",
       "  <thead>\n",
       "    <tr style=\"text-align: right;\">\n",
       "      <th></th>\n",
       "      <th>Expense Status</th>\n",
       "      <th>Pending At</th>\n",
       "      <th>Expense Logged by</th>\n",
       "      <th>Audit Status</th>\n",
       "      <th>Audit Comments</th>\n",
       "      <th>Tier 1</th>\n",
       "      <th>Tier 2</th>\n",
       "      <th>Tier 3</th>\n",
       "      <th>Year</th>\n",
       "      <th>Month</th>\n",
       "      <th>Country</th>\n",
       "      <th>Region</th>\n",
       "      <th>Category</th>\n",
       "      <th>Brand</th>\n",
       "      <th>Pep Expense</th>\n",
       "      <th>Bottler Expense</th>\n",
       "      <th>Total Expense</th>\n",
       "    </tr>\n",
       "  </thead>\n",
       "  <tbody>\n",
       "    <tr>\n",
       "      <th>0</th>\n",
       "      <td>Approved</td>\n",
       "      <td>NaN</td>\n",
       "      <td>Bottler</td>\n",
       "      <td>NaN</td>\n",
       "      <td>NaN</td>\n",
       "      <td>STB - Push</td>\n",
       "      <td>Unilateral</td>\n",
       "      <td>Capital Equipment</td>\n",
       "      <td>2024</td>\n",
       "      <td>10</td>\n",
       "      <td>ARGENTINA</td>\n",
       "      <td>LAB South</td>\n",
       "      <td>Energy Drinks</td>\n",
       "      <td>Rockstar</td>\n",
       "      <td>417</td>\n",
       "      <td>397</td>\n",
       "      <td>814</td>\n",
       "    </tr>\n",
       "    <tr>\n",
       "      <th>1</th>\n",
       "      <td>Approved</td>\n",
       "      <td>NaN</td>\n",
       "      <td>Bottler</td>\n",
       "      <td>NaN</td>\n",
       "      <td>NaN</td>\n",
       "      <td>STB - Push</td>\n",
       "      <td>Unilateral</td>\n",
       "      <td>CDAs</td>\n",
       "      <td>2024</td>\n",
       "      <td>5</td>\n",
       "      <td>ARGENTINA</td>\n",
       "      <td>LAB South</td>\n",
       "      <td>Sport Drinks</td>\n",
       "      <td>Gatorade</td>\n",
       "      <td>159</td>\n",
       "      <td>151</td>\n",
       "      <td>310</td>\n",
       "    </tr>\n",
       "    <tr>\n",
       "      <th>2</th>\n",
       "      <td>Approved</td>\n",
       "      <td>NaN</td>\n",
       "      <td>Bottler</td>\n",
       "      <td>NaN</td>\n",
       "      <td>NaN</td>\n",
       "      <td>STB - Push</td>\n",
       "      <td>Unilateral</td>\n",
       "      <td>CDAs</td>\n",
       "      <td>2024</td>\n",
       "      <td>2</td>\n",
       "      <td>ARGENTINA</td>\n",
       "      <td>LAB South</td>\n",
       "      <td>CSD</td>\n",
       "      <td>Pepsi</td>\n",
       "      <td>104665</td>\n",
       "      <td>99679</td>\n",
       "      <td>204345</td>\n",
       "    </tr>\n",
       "    <tr>\n",
       "      <th>3</th>\n",
       "      <td>Approved</td>\n",
       "      <td>NaN</td>\n",
       "      <td>Bottler</td>\n",
       "      <td>NaN</td>\n",
       "      <td>NaN</td>\n",
       "      <td>STB - Push</td>\n",
       "      <td>Unilateral</td>\n",
       "      <td>CDAs</td>\n",
       "      <td>2024</td>\n",
       "      <td>9</td>\n",
       "      <td>ARGENTINA</td>\n",
       "      <td>LAB South</td>\n",
       "      <td>CSD</td>\n",
       "      <td>Pepsi</td>\n",
       "      <td>9532</td>\n",
       "      <td>9078</td>\n",
       "      <td>18610</td>\n",
       "    </tr>\n",
       "    <tr>\n",
       "      <th>4</th>\n",
       "      <td>Approved</td>\n",
       "      <td>NaN</td>\n",
       "      <td>Bottler</td>\n",
       "      <td>NaN</td>\n",
       "      <td>NaN</td>\n",
       "      <td>STB - Push</td>\n",
       "      <td>Unilateral</td>\n",
       "      <td>Capital Equipment</td>\n",
       "      <td>2024</td>\n",
       "      <td>10</td>\n",
       "      <td>ARGENTINA</td>\n",
       "      <td>LAB South</td>\n",
       "      <td>Sport Drinks</td>\n",
       "      <td>Gatorade</td>\n",
       "      <td>3507</td>\n",
       "      <td>3340</td>\n",
       "      <td>6848</td>\n",
       "    </tr>\n",
       "  </tbody>\n",
       "</table>\n",
       "</div>"
      ],
      "text/plain": [
       "  Expense Status Pending At Expense Logged by Audit Status Audit Comments  \\\n",
       "0       Approved        NaN           Bottler          NaN            NaN   \n",
       "1       Approved        NaN           Bottler          NaN            NaN   \n",
       "2       Approved        NaN           Bottler          NaN            NaN   \n",
       "3       Approved        NaN           Bottler          NaN            NaN   \n",
       "4       Approved        NaN           Bottler          NaN            NaN   \n",
       "\n",
       "       Tier 1      Tier 2             Tier 3  Year  Month    Country  \\\n",
       "0  STB - Push  Unilateral  Capital Equipment  2024     10  ARGENTINA   \n",
       "1  STB - Push  Unilateral               CDAs  2024      5  ARGENTINA   \n",
       "2  STB - Push  Unilateral               CDAs  2024      2  ARGENTINA   \n",
       "3  STB - Push  Unilateral               CDAs  2024      9  ARGENTINA   \n",
       "4  STB - Push  Unilateral  Capital Equipment  2024     10  ARGENTINA   \n",
       "\n",
       "      Region       Category     Brand  Pep Expense  Bottler Expense  \\\n",
       "0  LAB South  Energy Drinks  Rockstar          417              397   \n",
       "1  LAB South   Sport Drinks  Gatorade          159              151   \n",
       "2  LAB South            CSD     Pepsi       104665            99679   \n",
       "3  LAB South            CSD     Pepsi         9532             9078   \n",
       "4  LAB South   Sport Drinks  Gatorade         3507             3340   \n",
       "\n",
       "   Total Expense  \n",
       "0            814  \n",
       "1            310  \n",
       "2         204345  \n",
       "3          18610  \n",
       "4           6848  "
      ]
     },
     "execution_count": 6,
     "metadata": {},
     "output_type": "execute_result"
    }
   ],
   "source": [
    "df_expenses.head()"
   ]
  },
  {
   "cell_type": "code",
   "execution_count": 7,
   "id": "d5a5206c",
   "metadata": {},
   "outputs": [],
   "source": [
    "df_budget = preprocess_budget_data(f\"{file_path}/data/Budget_RB.csv\")"
   ]
  },
  {
   "cell_type": "code",
   "execution_count": 8,
   "id": "771efdcd",
   "metadata": {},
   "outputs": [
    {
     "data": {
      "text/html": [
       "<div>\n",
       "<style scoped>\n",
       "    .dataframe tbody tr th:only-of-type {\n",
       "        vertical-align: middle;\n",
       "    }\n",
       "\n",
       "    .dataframe tbody tr th {\n",
       "        vertical-align: top;\n",
       "    }\n",
       "\n",
       "    .dataframe thead th {\n",
       "        text-align: right;\n",
       "    }\n",
       "</style>\n",
       "<table border=\"1\" class=\"dataframe\">\n",
       "  <thead>\n",
       "    <tr style=\"text-align: right;\">\n",
       "      <th></th>\n",
       "      <th>Region</th>\n",
       "      <th>Country</th>\n",
       "      <th>Year</th>\n",
       "      <th>Category</th>\n",
       "      <th>Brand</th>\n",
       "      <th>Tier 1</th>\n",
       "      <th>Tier 2</th>\n",
       "      <th>Tier 3</th>\n",
       "      <th>Total Budget</th>\n",
       "      <th>Pep Budget</th>\n",
       "      <th>Bottler Budget</th>\n",
       "    </tr>\n",
       "  </thead>\n",
       "  <tbody>\n",
       "    <tr>\n",
       "      <th>0</th>\n",
       "      <td>LAB South</td>\n",
       "      <td>Brazil</td>\n",
       "      <td>2024</td>\n",
       "      <td>Sport Drinks</td>\n",
       "      <td>Gatorade</td>\n",
       "      <td>Pull-Non-Working</td>\n",
       "      <td>Ad Production</td>\n",
       "      <td>Digital Ad Production</td>\n",
       "      <td>3777026</td>\n",
       "      <td>1982700</td>\n",
       "      <td>1794326</td>\n",
       "    </tr>\n",
       "    <tr>\n",
       "      <th>1</th>\n",
       "      <td>LAB South</td>\n",
       "      <td>Brazil</td>\n",
       "      <td>2024</td>\n",
       "      <td>Sport Drinks</td>\n",
       "      <td>Gatorade</td>\n",
       "      <td>Pull-Non-Working</td>\n",
       "      <td>Ad Production</td>\n",
       "      <td>Other Ad Production</td>\n",
       "      <td>3482925</td>\n",
       "      <td>1823673</td>\n",
       "      <td>1659252</td>\n",
       "    </tr>\n",
       "    <tr>\n",
       "      <th>2</th>\n",
       "      <td>LAB South</td>\n",
       "      <td>Brazil</td>\n",
       "      <td>2024</td>\n",
       "      <td>Sport Drinks</td>\n",
       "      <td>Gatorade</td>\n",
       "      <td>Pull-Non-Working</td>\n",
       "      <td>Ad Production</td>\n",
       "      <td>TV Print Radio OOH Prod</td>\n",
       "      <td>321987</td>\n",
       "      <td>152998</td>\n",
       "      <td>168989</td>\n",
       "    </tr>\n",
       "    <tr>\n",
       "      <th>3</th>\n",
       "      <td>LAB South</td>\n",
       "      <td>Brazil</td>\n",
       "      <td>2024</td>\n",
       "      <td>Sport Drinks</td>\n",
       "      <td>Gatorade</td>\n",
       "      <td>Pull-Non-Working</td>\n",
       "      <td>Agency Fees</td>\n",
       "      <td>Creative Agency Fees</td>\n",
       "      <td>3501881</td>\n",
       "      <td>1804609</td>\n",
       "      <td>1697272</td>\n",
       "    </tr>\n",
       "    <tr>\n",
       "      <th>4</th>\n",
       "      <td>LAB South</td>\n",
       "      <td>Brazil</td>\n",
       "      <td>2024</td>\n",
       "      <td>Sport Drinks</td>\n",
       "      <td>Gatorade</td>\n",
       "      <td>Pull-Non-Working</td>\n",
       "      <td>Agency Fees</td>\n",
       "      <td>In Store and POS Design/Development</td>\n",
       "      <td>2787568</td>\n",
       "      <td>1396262</td>\n",
       "      <td>1391306</td>\n",
       "    </tr>\n",
       "  </tbody>\n",
       "</table>\n",
       "</div>"
      ],
      "text/plain": [
       "      Region Country  Year      Category     Brand            Tier 1  \\\n",
       "0  LAB South  Brazil  2024  Sport Drinks  Gatorade  Pull-Non-Working   \n",
       "1  LAB South  Brazil  2024  Sport Drinks  Gatorade  Pull-Non-Working   \n",
       "2  LAB South  Brazil  2024  Sport Drinks  Gatorade  Pull-Non-Working   \n",
       "3  LAB South  Brazil  2024  Sport Drinks  Gatorade  Pull-Non-Working   \n",
       "4  LAB South  Brazil  2024  Sport Drinks  Gatorade  Pull-Non-Working   \n",
       "\n",
       "          Tier 2                               Tier 3  Total Budget  \\\n",
       "0  Ad Production                Digital Ad Production       3777026   \n",
       "1  Ad Production                  Other Ad Production       3482925   \n",
       "2  Ad Production              TV Print Radio OOH Prod        321987   \n",
       "3    Agency Fees                 Creative Agency Fees       3501881   \n",
       "4    Agency Fees  In Store and POS Design/Development       2787568   \n",
       "\n",
       "   Pep Budget  Bottler Budget  \n",
       "0     1982700         1794326  \n",
       "1     1823673         1659252  \n",
       "2      152998          168989  \n",
       "3     1804609         1697272  \n",
       "4     1396262         1391306  "
      ]
     },
     "execution_count": 8,
     "metadata": {},
     "output_type": "execute_result"
    }
   ],
   "source": [
    "df_budget.head()"
   ]
  },
  {
   "cell_type": "code",
   "execution_count": 9,
   "id": "b6f041bc",
   "metadata": {},
   "outputs": [],
   "source": [
    "multi_agent_obj = MultiAgentSystem(\n",
    "    model_name='gpt-4o',\n",
    "    api_key=llm_keys['open_ai'],\n",
    "    expense_dataset=df_expenses,\n",
    "    budget_dataset=df_budget,\n",
    "    plot_path='jupyter_plots',\n",
    ")"
   ]
  },
  {
   "cell_type": "code",
   "execution_count": 10,
   "id": "7db0a848",
   "metadata": {},
   "outputs": [],
   "source": [
    "# Category must also be included"
   ]
  },
  {
   "cell_type": "code",
   "execution_count": 11,
   "id": "46953a35",
   "metadata": {},
   "outputs": [],
   "source": [
    "# Expense\n",
    "# question = 'What are the Tier 1 expenses in 2024 for Brazil?'\n",
    "# question = \"How are the Tier 1 expenses in CY varying for Mexico & Brazil for Pepsi brand?\""
   ]
  },
  {
   "cell_type": "code",
   "execution_count": 12,
   "id": "484a13c1",
   "metadata": {},
   "outputs": [],
   "source": [
    "# Budget\n",
    "# question = 'What is the total budget allocated for Mexico in 2025?'\n",
    "question = \"Can you give me split of Tier 1 items for each Brazil & Mexico for 2025?\""
   ]
  },
  {
   "cell_type": "code",
   "execution_count": 13,
   "id": "2c9ca966",
   "metadata": {},
   "outputs": [
    {
     "name": "stdout",
     "output_type": "stream",
     "text": [
      "Tier mapping response:\n",
      "{'mapping_needed': True, 'results': [{'tier_1': 'Pull-Non-Working'}, {'tier_1': 'Pull-Working'}, {'tier_1': 'STB - Push'}]}\n",
      "--------------------------------------------------------------------------------------------------------------\n"
     ]
    }
   ],
   "source": [
    "result = multi_agent_obj.graph.nodes['supervisor'].invoke(\n",
    "    {\n",
    "        'question': question\n",
    "    }\n",
    ")"
   ]
  },
  {
   "cell_type": "code",
   "execution_count": 14,
   "id": "121f2069",
   "metadata": {},
   "outputs": [
    {
     "data": {
      "text/plain": [
       "{'result': {'thought_process': 'The user is asking for a split of Tier 1 items for Brazil and Mexico for the year 2025. This requires analyzing specific data related to expenses or budget for these countries and year. The Insight Agent is equipped to handle such data analysis tasks.',\n",
       "  'next': 'Insight Agent',\n",
       "  'enriched_question': 'Provide a split of Tier 1 items for Brazil and Mexico for the year 2025.'},\n",
       " 'messages': [AIMessage(content='The user is asking for a split of Tier 1 items for Brazil and Mexico for the year 2025. This requires analyzing specific data related to expenses or budget for these countries and year. The Insight Agent is equipped to handle such data analysis tasks.', additional_kwargs={}, response_metadata={}, name='supervisor')],\n",
       " 'next': 'Insight Agent',\n",
       " 'type': 'agent'}"
      ]
     },
     "execution_count": 14,
     "metadata": {},
     "output_type": "execute_result"
    }
   ],
   "source": [
    "result"
   ]
  },
  {
   "cell_type": "code",
   "execution_count": 15,
   "id": "e762ddee",
   "metadata": {
    "scrolled": true
   },
   "outputs": [
    {
     "name": "stdout",
     "output_type": "stream",
     "text": [
      "\n",
      "\n",
      "\u001b[1m> Entering new AgentExecutor chain...\u001b[0m\n",
      "\u001b[32;1m\u001b[1;3m\n",
      "Invoking: `analyze_expense_data` with `Provide a split of Tier 1 items for Brazil and Mexico for the year 2025.`\n",
      "\n",
      "\n",
      "\u001b[0mResponse Text:\n",
      "<approach>\n",
      "To answer this question, I will need to:\n",
      "1. Filter the dataset for the year 2025 and for the countries Brazil and Mexico.\n",
      "2. Group the filtered data by \"Country\" and \"Tier 1\" to get the sum of \"Total Expense\" for each \"Tier 1\" category.\n",
      "3. Calculate the percentage share of each \"Tier 1\" category within each country.\n",
      "4. Prepare the data for visualization to show the split of \"Tier 1\" items for Brazil and Mexico.\n",
      "</approach>\n",
      "\n",
      "<code>\n",
      "import pandas as pd\n",
      "\n",
      "# Filter the dataset for the year 2025 and for the countries Brazil and Mexico\n",
      "filtered_df = df[(df['Year'] == 2025) & (df['Country'].str.strip().str.upper().isin(['BRAZIL', 'MEXICO']))]\n",
      "\n",
      "# Group by \"Country\" and \"Tier 1\" and calculate the sum of \"Total Expense\"\n",
      "grouped_df = filtered_df.groupby(['Country', 'Tier 1'], as_index=False)['Total Expense'].sum()\n",
      "\n",
      "# Calculate the percentage share of each \"Tier 1\" category within each country\n",
      "grouped_df['Percentage Share'] = grouped_df.groupby('Country')['Total Expense'].apply(lambda x: x / x.sum())\n",
      "\n",
      "# Prepare the answer dictionary\n",
      "answer_dict = {\"tier_1_split\": grouped_df}\n",
      "</code>\n",
      "\n",
      "<chart>\n",
      "import matplotlib.pyplot as plt\n",
      "import seaborn as sns\n",
      "\n",
      "# Set figure size and style\n",
      "plt.figure(figsize=(10, 6))\n",
      "sns.set_theme(style=\"whitegrid\")\n",
      "sns.set_palette('pastel')\n",
      "\n",
      "# Create a bar plot for the split of Tier 1 items for Brazil and Mexico\n",
      "sns.barplot(data=grouped_df, x='Country', y='Percentage Share', hue='Tier 1')\n",
      "\n",
      "# Add title and labels\n",
      "plt.title('Split of Tier 1 Items for Brazil and Mexico in 2025')\n",
      "plt.xlabel('Country')\n",
      "plt.ylabel('Percentage Share')\n",
      "plt.xticks(rotation=45, ha='right')\n",
      "plt.grid(True, alpha=0.3)\n",
      "plt.tight_layout()\n",
      "plt.show()\n",
      "</chart>\n",
      "\n",
      "<answer>\n",
      "The split of Tier 1 items for Brazil and Mexico for the year 2025 is available in {answer_dict[\"tier_1_split\"]}. The detailed breakdown shows the percentage share of each \"Tier 1\" category within each country. The visualization provides a clear representation of the distribution.\n",
      "</answer>\n",
      "--------------------------------------------------------------------------------------------------------------\n",
      "Segments:\n",
      "{'approach': 'To answer this question, I will need to:\\n1. Filter the dataset for the year 2025 and for the countries Brazil and Mexico.\\n2. Group the filtered data by \"Country\" and \"Tier 1\" to get the sum of \"Total Expense\" for each \"Tier 1\" category.\\n3. Calculate the percentage share of each \"Tier 1\" category within each country.\\n4. Prepare the data for visualization to show the split of \"Tier 1\" items for Brazil and Mexico.', 'code': 'import pandas as pd\\n\\n# Filter the dataset for the year 2025 and for the countries Brazil and Mexico\\nfiltered_df = df[(df[\\'Year\\'] == 2025) & (df[\\'Country\\'].str.strip().str.upper().isin([\\'BRAZIL\\', \\'MEXICO\\']))]\\n\\n# Group by \"Country\" and \"Tier 1\" and calculate the sum of \"Total Expense\"\\ngrouped_df = filtered_df.groupby([\\'Country\\', \\'Tier 1\\'], as_index=False)[\\'Total Expense\\'].sum()\\n\\n# Calculate the percentage share of each \"Tier 1\" category within each country\\ngrouped_df[\\'Percentage Share\\'] = grouped_df.groupby(\\'Country\\')[\\'Total Expense\\'].apply(lambda x: x / x.sum())\\n\\n# Prepare the answer dictionary\\nanswer_dict = {\"tier_1_split\": grouped_df}', 'chart': 'import matplotlib.pyplot as plt\\nimport seaborn as sns\\n\\n# Set figure size and style\\nplt.figure(figsize=(10, 6))\\nsns.set_theme(style=\"whitegrid\")\\nsns.set_palette(\\'pastel\\')\\n\\n# Create a bar plot for the split of Tier 1 items for Brazil and Mexico\\nsns.barplot(data=grouped_df, x=\\'Country\\', y=\\'Percentage Share\\', hue=\\'Tier 1\\')\\n\\n# Add title and labels\\nplt.title(\\'Split of Tier 1 Items for Brazil and Mexico in 2025\\')\\nplt.xlabel(\\'Country\\')\\nplt.ylabel(\\'Percentage Share\\')\\nplt.xticks(rotation=45, ha=\\'right\\')\\nplt.grid(True, alpha=0.3)\\nplt.tight_layout()\\nplt.show()', 'answer': 'The split of Tier 1 items for Brazil and Mexico for the year 2025 is available in {answer_dict[\"tier_1_split\"]}. The detailed breakdown shows the percentage share of each \"Tier 1\" category within each country. The visualization provides a clear representation of the distribution.'}\n",
      "--------------------------------------------------------------------------------------------------------------\n",
      "Error during execution: incompatible index of inserted column with frame index \n",
      "Traceback (most recent call last):\n",
      "  File \"/Users/sigmoid/miniconda3/envs/pepsico_gen_ai/lib/python3.12/site-packages/pandas/core/frame.py\", line 12687, in _reindex_for_setitem\n",
      "    reindexed_value = value.reindex(index)._values\n",
      "                      ^^^^^^^^^^^^^^^^^^^^\n",
      "  File \"/Users/sigmoid/miniconda3/envs/pepsico_gen_ai/lib/python3.12/site-packages/pandas/core/series.py\", line 5153, in reindex\n",
      "    return super().reindex(\n",
      "           ^^^^^^^^^^^^^^^^\n",
      "  File \"/Users/sigmoid/miniconda3/envs/pepsico_gen_ai/lib/python3.12/site-packages/pandas/core/generic.py\", line 5610, in reindex\n",
      "    return self._reindex_axes(\n",
      "           ^^^^^^^^^^^^^^^^^^^\n",
      "  File \"/Users/sigmoid/miniconda3/envs/pepsico_gen_ai/lib/python3.12/site-packages/pandas/core/generic.py\", line 5633, in _reindex_axes\n",
      "    new_index, indexer = ax.reindex(\n",
      "                         ^^^^^^^^^^^\n",
      "  File \"/Users/sigmoid/miniconda3/envs/pepsico_gen_ai/lib/python3.12/site-packages/pandas/core/indexes/base.py\", line 4433, in reindex\n",
      "    target = self._wrap_reindex_result(target, indexer, preserve_names)\n",
      "             ^^^^^^^^^^^^^^^^^^^^^^^^^^^^^^^^^^^^^^^^^^^^^^^^^^^^^^^^^^\n",
      "  File \"/Users/sigmoid/miniconda3/envs/pepsico_gen_ai/lib/python3.12/site-packages/pandas/core/indexes/multi.py\", line 2717, in _wrap_reindex_result\n",
      "    target = MultiIndex.from_tuples(target)\n",
      "             ^^^^^^^^^^^^^^^^^^^^^^^^^^^^^^\n",
      "  File \"/Users/sigmoid/miniconda3/envs/pepsico_gen_ai/lib/python3.12/site-packages/pandas/core/indexes/multi.py\", line 222, in new_meth\n",
      "    return meth(self_or_cls, *args, **kwargs)\n",
      "           ^^^^^^^^^^^^^^^^^^^^^^^^^^^^^^^^^^\n",
      "  File \"/Users/sigmoid/miniconda3/envs/pepsico_gen_ai/lib/python3.12/site-packages/pandas/core/indexes/multi.py\", line 617, in from_tuples\n",
      "    arrays = list(lib.tuples_to_object_array(tuples).T)\n",
      "                  ^^^^^^^^^^^^^^^^^^^^^^^^^^^^^^^^^^\n",
      "  File \"lib.pyx\", line 3029, in pandas._libs.lib.tuples_to_object_array\n",
      "ValueError: Buffer dtype mismatch, expected 'Python object' but got 'long'\n",
      "\n",
      "The above exception was the direct cause of the following exception:\n",
      "\n",
      "Traceback (most recent call last):\n",
      "  File \"/Users/sigmoid/Documents/PepsiCo - Gen AI PoC/lift_bot/src/helpers.py\", line 306, in execute_analysis\n",
      "    exec(combined_code, namespace)\n",
      "  File \"<string>\", line 11, in <module>\n",
      "  File \"/Users/sigmoid/miniconda3/envs/pepsico_gen_ai/lib/python3.12/site-packages/pandas/core/frame.py\", line 4311, in __setitem__\n",
      "    self._set_item(key, value)\n",
      "  File \"/Users/sigmoid/miniconda3/envs/pepsico_gen_ai/lib/python3.12/site-packages/pandas/core/frame.py\", line 4524, in _set_item\n",
      "    value, refs = self._sanitize_column(value)\n",
      "                  ^^^^^^^^^^^^^^^^^^^^^^^^^^^^\n",
      "  File \"/Users/sigmoid/miniconda3/envs/pepsico_gen_ai/lib/python3.12/site-packages/pandas/core/frame.py\", line 5263, in _sanitize_column\n",
      "    return _reindex_for_setitem(value, self.index)\n",
      "           ^^^^^^^^^^^^^^^^^^^^^^^^^^^^^^^^^^^^^^^\n",
      "  File \"/Users/sigmoid/miniconda3/envs/pepsico_gen_ai/lib/python3.12/site-packages/pandas/core/frame.py\", line 12694, in _reindex_for_setitem\n",
      "    raise TypeError(\n",
      "TypeError: incompatible index of inserted column with frame index\n",
      "\n"
     ]
    },
    {
     "name": "stdout",
     "output_type": "stream",
     "text": [
      "\u001b[36;1m\u001b[1;3m{'approach': 'To answer this question, I will need to:\\n1. Filter the dataset for the year 2025 and for the countries Brazil and Mexico.\\n2. Group the filtered data by \"Country\" and \"Tier 1\" to get the sum of \"Total Expense\" for each \"Tier 1\" category.\\n3. Calculate the percentage share of each \"Tier 1\" category within each country.\\n4. Prepare the data for visualization to show the split of \"Tier 1\" items for Brazil and Mexico.', 'answer': None, 'figure': None, 'code': 'import pandas as pd\\n\\n# Filter the dataset for the year 2025 and for the countries Brazil and Mexico\\nfiltered_df = df[(df[\\'Year\\'] == 2025) & (df[\\'Country\\'].str.strip().str.upper().isin([\\'BRAZIL\\', \\'MEXICO\\']))]\\n\\n# Group by \"Country\" and \"Tier 1\" and calculate the sum of \"Total Expense\"\\ngrouped_df = filtered_df.groupby([\\'Country\\', \\'Tier 1\\'], as_index=False)[\\'Total Expense\\'].sum()\\n\\n# Calculate the percentage share of each \"Tier 1\" category within each country\\ngrouped_df[\\'Percentage Share\\'] = grouped_df.groupby(\\'Country\\')[\\'Total Expense\\'].apply(lambda x: x / x.sum())\\n\\n# Prepare the answer dictionary\\nanswer_dict = {\"tier_1_split\": grouped_df}', 'chart_code': 'import matplotlib.pyplot as plt\\nimport seaborn as sns\\n\\n# Set figure size and style\\nplt.figure(figsize=(10, 6))\\nsns.set_theme(style=\"whitegrid\")\\nsns.set_palette(\\'pastel\\')\\n\\n# Create a bar plot for the split of Tier 1 items for Brazil and Mexico\\nsns.barplot(data=grouped_df, x=\\'Country\\', y=\\'Percentage Share\\', hue=\\'Tier 1\\')\\n\\n# Add title and labels\\nplt.title(\\'Split of Tier 1 Items for Brazil and Mexico in 2025\\')\\nplt.xlabel(\\'Country\\')\\nplt.ylabel(\\'Percentage Share\\')\\nplt.xticks(rotation=45, ha=\\'right\\')\\nplt.grid(True, alpha=0.3)\\nplt.tight_layout()\\nplt.show()'}\u001b[0m\u001b[32;1m\u001b[1;3m\n",
      "Invoking: `analyze_expense_data` with `Get the split of Tier 1 items for Brazil and Mexico for the year 2025, including the percentage share of each Tier 1 category within each country.`\n",
      "\n",
      "\n",
      "\u001b[0mResponse Text:\n",
      "<approach>\n",
      "To answer this question, I will need to:\n",
      "1. Filter the dataset for the year 2025 and for the countries Brazil and Mexico.\n",
      "2. Group the filtered data by \"Country\" and \"Tier 1\" to calculate the total \"Total Expense\" for each \"Tier 1\" category within each country.\n",
      "3. Calculate the percentage share of each \"Tier 1\" category within each country by dividing the \"Total Expense\" of each \"Tier 1\" category by the total \"Total Expense\" for that country.\n",
      "4. Prepare the result in a structured format to show the split of \"Tier 1\" items and their percentage share for Brazil and Mexico.\n",
      "</approach>\n",
      "\n",
      "<code>\n",
      "import pandas as pd\n",
      "\n",
      "# Filter the data for the year 2025 and for the countries Brazil and Mexico\n",
      "filtered_df = df[(df['Year'] == 2025) & (df['Country'].str.strip().str.upper().isin(['BRAZIL', 'MEXICO']))]\n",
      "\n",
      "# Group by Country and Tier 1, and calculate the total expense for each group\n",
      "grouped_df = filtered_df.groupby(['Country', 'Tier 1'], as_index=False)['Total Expense'].sum()\n",
      "\n",
      "# Calculate the total expense for each country\n",
      "total_expense_by_country = grouped_df.groupby('Country')['Total Expense'].sum().reset_index()\n",
      "total_expense_by_country.columns = ['Country', 'Total Country Expense']\n",
      "\n",
      "# Merge the total expense by country with the grouped data\n",
      "merged_df = pd.merge(grouped_df, total_expense_by_country, on='Country')\n",
      "\n",
      "# Calculate the percentage share of each Tier 1 category within each country\n",
      "merged_df['Percentage Share'] = (merged_df['Total Expense'] / merged_df['Total Country Expense']) * 100\n",
      "\n",
      "# Prepare the final result\n",
      "answer_dict = {\"tier_1_split\": merged_df}\n",
      "</code>\n",
      "\n",
      "<chart>\n",
      "import matplotlib.pyplot as plt\n",
      "import seaborn as sns\n",
      "\n",
      "# Set figure size and style\n",
      "plt.figure(figsize=(10, 6))\n",
      "sns.set_theme(style=\"whitegrid\")\n",
      "sns.set_palette('pastel')\n",
      "\n",
      "# Create a bar plot for the Tier 1 split and percentage share\n",
      "sns.barplot(data=merged_df, x='Country', y='Percentage Share', hue='Tier 1')\n",
      "\n",
      "# Add title and labels\n",
      "plt.title('Tier 1 Split and Percentage Share for Brazil and Mexico (2025)')\n",
      "plt.xlabel('Country')\n",
      "plt.ylabel('Percentage Share (%)')\n",
      "\n",
      "# Rotate x-axis labels\n",
      "plt.xticks(rotation=45, ha='right')\n",
      "\n",
      "# Add gridlines\n",
      "plt.grid(True, alpha=0.3)\n",
      "\n",
      "plt.tight_layout()\n",
      "plt.show()\n",
      "</chart>\n",
      "\n",
      "<answer>\n",
      "The split of Tier 1 items for Brazil and Mexico for the year 2025, along with the percentage share of each Tier 1 category within each country, is available in {answer_dict[\"tier_1_split\"]}. The chart visualizes the percentage share of each Tier 1 category within Brazil and Mexico.\n",
      "</answer>\n",
      "--------------------------------------------------------------------------------------------------------------\n",
      "Segments:\n",
      "{'approach': 'To answer this question, I will need to:\\n1. Filter the dataset for the year 2025 and for the countries Brazil and Mexico.\\n2. Group the filtered data by \"Country\" and \"Tier 1\" to calculate the total \"Total Expense\" for each \"Tier 1\" category within each country.\\n3. Calculate the percentage share of each \"Tier 1\" category within each country by dividing the \"Total Expense\" of each \"Tier 1\" category by the total \"Total Expense\" for that country.\\n4. Prepare the result in a structured format to show the split of \"Tier 1\" items and their percentage share for Brazil and Mexico.', 'code': 'import pandas as pd\\n\\n# Filter the data for the year 2025 and for the countries Brazil and Mexico\\nfiltered_df = df[(df[\\'Year\\'] == 2025) & (df[\\'Country\\'].str.strip().str.upper().isin([\\'BRAZIL\\', \\'MEXICO\\']))]\\n\\n# Group by Country and Tier 1, and calculate the total expense for each group\\ngrouped_df = filtered_df.groupby([\\'Country\\', \\'Tier 1\\'], as_index=False)[\\'Total Expense\\'].sum()\\n\\n# Calculate the total expense for each country\\ntotal_expense_by_country = grouped_df.groupby(\\'Country\\')[\\'Total Expense\\'].sum().reset_index()\\ntotal_expense_by_country.columns = [\\'Country\\', \\'Total Country Expense\\']\\n\\n# Merge the total expense by country with the grouped data\\nmerged_df = pd.merge(grouped_df, total_expense_by_country, on=\\'Country\\')\\n\\n# Calculate the percentage share of each Tier 1 category within each country\\nmerged_df[\\'Percentage Share\\'] = (merged_df[\\'Total Expense\\'] / merged_df[\\'Total Country Expense\\']) * 100\\n\\n# Prepare the final result\\nanswer_dict = {\"tier_1_split\": merged_df}', 'chart': 'import matplotlib.pyplot as plt\\nimport seaborn as sns\\n\\n# Set figure size and style\\nplt.figure(figsize=(10, 6))\\nsns.set_theme(style=\"whitegrid\")\\nsns.set_palette(\\'pastel\\')\\n\\n# Create a bar plot for the Tier 1 split and percentage share\\nsns.barplot(data=merged_df, x=\\'Country\\', y=\\'Percentage Share\\', hue=\\'Tier 1\\')\\n\\n# Add title and labels\\nplt.title(\\'Tier 1 Split and Percentage Share for Brazil and Mexico (2025)\\')\\nplt.xlabel(\\'Country\\')\\nplt.ylabel(\\'Percentage Share (%)\\')\\n\\n# Rotate x-axis labels\\nplt.xticks(rotation=45, ha=\\'right\\')\\n\\n# Add gridlines\\nplt.grid(True, alpha=0.3)\\n\\nplt.tight_layout()\\nplt.show()', 'answer': 'The split of Tier 1 items for Brazil and Mexico for the year 2025, along with the percentage share of each Tier 1 category within each country, is available in {answer_dict[\"tier_1_split\"]}. The chart visualizes the percentage share of each Tier 1 category within Brazil and Mexico.'}\n",
      "--------------------------------------------------------------------------------------------------------------\n"
     ]
    },
    {
     "name": "stdout",
     "output_type": "stream",
     "text": [
      "\u001b[36;1m\u001b[1;3m{'approach': 'To answer this question, I will need to:\\n1. Filter the dataset for the year 2025 and for the countries Brazil and Mexico.\\n2. Group the filtered data by \"Country\" and \"Tier 1\" to calculate the total \"Total Expense\" for each \"Tier 1\" category within each country.\\n3. Calculate the percentage share of each \"Tier 1\" category within each country by dividing the \"Total Expense\" of each \"Tier 1\" category by the total \"Total Expense\" for that country.\\n4. Prepare the result in a structured format to show the split of \"Tier 1\" items and their percentage share for Brazil and Mexico.', 'answer': 'The split of Tier 1 items for Brazil and Mexico for the year 2025, along with the percentage share of each Tier 1 category within each country, is available in   Country            Tier 1  Total Expense  Total Country Expense  \\\\\\n0  BRAZIL  Pull-Non-Working         417512                4810448   \\n1  BRAZIL      Pull-Working        1031633                4810448   \\n2  BRAZIL        STB - Push        3361303                4810448   \\n3  MEXICO  Pull-Non-Working          25410                8042554   \\n4  MEXICO      Pull-Working        4942230                8042554   \\n5  MEXICO        STB - Push        3074914                8042554   \\n\\n   Percentage Share  \\n0          8.679275  \\n1         21.445674  \\n2         69.875051  \\n3          0.315944  \\n4         61.451002  \\n5         38.233054  . The chart visualizes the percentage share of each Tier 1 category within Brazil and Mexico.', 'figure': 'jupyter_plots/plot_b0bb31b03b41468093ff1651baada5f7.png', 'code': 'import pandas as pd\\n\\n# Filter the data for the year 2025 and for the countries Brazil and Mexico\\nfiltered_df = df[(df[\\'Year\\'] == 2025) & (df[\\'Country\\'].str.strip().str.upper().isin([\\'BRAZIL\\', \\'MEXICO\\']))]\\n\\n# Group by Country and Tier 1, and calculate the total expense for each group\\ngrouped_df = filtered_df.groupby([\\'Country\\', \\'Tier 1\\'], as_index=False)[\\'Total Expense\\'].sum()\\n\\n# Calculate the total expense for each country\\ntotal_expense_by_country = grouped_df.groupby(\\'Country\\')[\\'Total Expense\\'].sum().reset_index()\\ntotal_expense_by_country.columns = [\\'Country\\', \\'Total Country Expense\\']\\n\\n# Merge the total expense by country with the grouped data\\nmerged_df = pd.merge(grouped_df, total_expense_by_country, on=\\'Country\\')\\n\\n# Calculate the percentage share of each Tier 1 category within each country\\nmerged_df[\\'Percentage Share\\'] = (merged_df[\\'Total Expense\\'] / merged_df[\\'Total Country Expense\\']) * 100\\n\\n# Prepare the final result\\nanswer_dict = {\"tier_1_split\": merged_df}', 'chart_code': 'import matplotlib.pyplot as plt\\nimport seaborn as sns\\n\\n# Set figure size and style\\nplt.figure(figsize=(10, 6))\\nsns.set_theme(style=\"whitegrid\")\\nsns.set_palette(\\'pastel\\')\\n\\n# Create a bar plot for the Tier 1 split and percentage share\\nsns.barplot(data=merged_df, x=\\'Country\\', y=\\'Percentage Share\\', hue=\\'Tier 1\\')\\n\\n# Add title and labels\\nplt.title(\\'Tier 1 Split and Percentage Share for Brazil and Mexico (2025)\\')\\nplt.xlabel(\\'Country\\')\\nplt.ylabel(\\'Percentage Share (%)\\')\\n\\n# Rotate x-axis labels\\nplt.xticks(rotation=45, ha=\\'right\\')\\n\\n# Add gridlines\\nplt.grid(True, alpha=0.3)\\n\\nplt.tight_layout()\\nplt.show()'}\u001b[0m\u001b[32;1m\u001b[1;3m<answer>For the year 2025, the split of Tier 1 items for Brazil and Mexico is as follows:\n",
      "\n",
      "**Brazil:**\n",
      "- Pull-Non-Working: $417,512 (8.68%)\n",
      "- Pull-Working: $1,031,633 (21.45%)\n",
      "- STB - Push: $3,361,303 (69.88%)\n",
      "\n",
      "**Mexico:**\n",
      "- Pull-Non-Working: $25,410 (0.32%)\n",
      "- Pull-Working: $4,942,230 (61.45%)\n",
      "- STB - Push: $3,074,914 (38.23%)\n",
      "\n",
      "The chart visualizes the percentage share of each Tier 1 category within Brazil and Mexico.</answer><graph>jupyter_plots/plot_b0bb31b03b41468093ff1651baada5f7.png</graph>\u001b[0m\n",
      "\n",
      "\u001b[1m> Finished chain.\u001b[0m\n"
     ]
    },
    {
     "data": {
      "image/png": "[encoded data removed]",
      "text/plain": [
       "<Figure size 1000x600 with 1 Axes>"
      ]
     },
     "metadata": {},
     "output_type": "display_data"
    }
   ],
   "source": [
    "result2 = multi_agent_obj.graph.nodes['Insight Agent'].invoke(\n",
    "    {\n",
    "        'enriched_question': result['result']['enriched_question']\n",
    "    }\n",
    ")"
   ]
  },
  {
   "cell_type": "code",
   "execution_count": 16,
   "id": "33be03fc",
   "metadata": {},
   "outputs": [
    {
     "data": {
      "text/plain": [
       "dict_keys(['input', 'history', 'output', 'recorder_steps', 'agent'])"
      ]
     },
     "execution_count": 16,
     "metadata": {},
     "output_type": "execute_result"
    }
   ],
   "source": [
    "result2.keys()"
   ]
  },
  {
   "cell_type": "code",
   "execution_count": 17,
   "id": "729721e6",
   "metadata": {},
   "outputs": [
    {
     "data": {
      "text/plain": [
       "'<answer>For the year 2025, the split of Tier 1 items for Brazil and Mexico is as follows:\\n\\n**Brazil:**\\n- Pull-Non-Working: $417,512 (8.68%)\\n- Pull-Working: $1,031,633 (21.45%)\\n- STB - Push: $3,361,303 (69.88%)\\n\\n**Mexico:**\\n- Pull-Non-Working: $25,410 (0.32%)\\n- Pull-Working: $4,942,230 (61.45%)\\n- STB - Push: $3,074,914 (38.23%)\\n\\nThe chart visualizes the percentage share of each Tier 1 category within Brazil and Mexico.</answer><graph>jupyter_plots/plot_b0bb31b03b41468093ff1651baada5f7.png</graph>'"
      ]
     },
     "execution_count": 17,
     "metadata": {},
     "output_type": "execute_result"
    }
   ],
   "source": [
    "result2['output']"
   ]
  },
  {
   "cell_type": "code",
   "execution_count": 18,
   "id": "54984635",
   "metadata": {},
   "outputs": [
    {
     "data": {
      "text/plain": [
       "3"
      ]
     },
     "execution_count": 18,
     "metadata": {},
     "output_type": "execute_result"
    }
   ],
   "source": [
    "len(result2['recorder_steps'])"
   ]
  },
  {
   "cell_type": "code",
   "execution_count": 19,
   "id": "e6d7d570",
   "metadata": {},
   "outputs": [
    {
     "data": {
      "text/plain": [
       "2"
      ]
     },
     "execution_count": 19,
     "metadata": {},
     "output_type": "execute_result"
    }
   ],
   "source": [
    "len(result2['recorder_steps'][-2:])"
   ]
  },
  {
   "cell_type": "code",
   "execution_count": 20,
   "id": "8431fcba",
   "metadata": {},
   "outputs": [
    {
     "data": {
      "text/plain": [
       "'Provide a split of Tier 1 items for Brazil and Mexico for the year 2025.'"
      ]
     },
     "execution_count": 20,
     "metadata": {},
     "output_type": "execute_result"
    }
   ],
   "source": [
    "result2['input']"
   ]
  },
  {
   "cell_type": "code",
   "execution_count": 21,
   "id": "86039367",
   "metadata": {},
   "outputs": [
    {
     "data": {
      "text/plain": [
       "'To answer this question, I will need to:\\n1. Filter the dataset for the year 2025 and for the countries Brazil and Mexico.\\n2. Group the filtered data by \"Country\" and \"Tier 1\" to get the sum of \"Total Expense\" for each \"Tier 1\" category.\\n3. Calculate the percentage share of each \"Tier 1\" category within each country.\\n4. Prepare the data for visualization to show the split of \"Tier 1\" items for Brazil and Mexico.'"
      ]
     },
     "execution_count": 21,
     "metadata": {},
     "output_type": "execute_result"
    }
   ],
   "source": [
    "result2['recorder_steps'][0]['observation']['approach']"
   ]
  },
  {
   "cell_type": "code",
   "execution_count": 22,
   "id": "e876ab7e",
   "metadata": {},
   "outputs": [],
   "source": [
    "result2['recorder_steps'][0]['observation']['answer']"
   ]
  },
  {
   "cell_type": "code",
   "execution_count": 26,
   "id": "c489d1cf",
   "metadata": {},
   "outputs": [
    {
     "data": {
      "text/plain": [
       "'To answer this question, I will need to:\\n1. Filter the dataset for the year 2025 and for the countries Brazil and Mexico.\\n2. Group the filtered data by \"Country\" and \"Tier 1\" to calculate the total \"Total Expense\" for each \"Tier 1\" category within each country.\\n3. Calculate the percentage share of each \"Tier 1\" category within each country by dividing the \"Total Expense\" of each \"Tier 1\" category by the total \"Total Expense\" for that country.\\n4. Prepare the result in a structured format to show the split of \"Tier 1\" items and their percentage share for Brazil and Mexico.'"
      ]
     },
     "execution_count": 26,
     "metadata": {},
     "output_type": "execute_result"
    }
   ],
   "source": [
    "result2['recorder_steps'][1]['observation']['approach']"
   ]
  },
  {
   "cell_type": "code",
   "execution_count": 27,
   "id": "f4bc022a",
   "metadata": {},
   "outputs": [
    {
     "data": {
      "text/plain": [
       "'The split of Tier 1 items for Brazil and Mexico for the year 2025, along with the percentage share of each Tier 1 category within each country, is available in   Country            Tier 1  Total Expense  Total Country Expense  \\\\\\n0  BRAZIL  Pull-Non-Working         417512                4810448   \\n1  BRAZIL      Pull-Working        1031633                4810448   \\n2  BRAZIL        STB - Push        3361303                4810448   \\n3  MEXICO  Pull-Non-Working          25410                8042554   \\n4  MEXICO      Pull-Working        4942230                8042554   \\n5  MEXICO        STB - Push        3074914                8042554   \\n\\n   Percentage Share  \\n0          8.679275  \\n1         21.445674  \\n2         69.875051  \\n3          0.315944  \\n4         61.451002  \\n5         38.233054  . The chart visualizes the percentage share of each Tier 1 category within Brazil and Mexico.'"
      ]
     },
     "execution_count": 27,
     "metadata": {},
     "output_type": "execute_result"
    }
   ],
   "source": [
    "result2['recorder_steps'][1]['observation']['answer']"
   ]
  },
  {
   "cell_type": "code",
   "execution_count": 28,
   "id": "86236206",
   "metadata": {
    "scrolled": true
   },
   "outputs": [
    {
     "data": {
      "text/plain": [
       "{'final_answer': '<answer>For the year 2025, the split of Tier 1 items for Brazil and Mexico is as follows:\\n\\n**Brazil:**\\n- Pull-Non-Working: $417,512 (8.68%)\\n- Pull-Working: $1,031,633 (21.45%)\\n- STB - Push: $3,361,303 (69.88%)\\n\\n**Mexico:**\\n- Pull-Non-Working: $25,410 (0.32%)\\n- Pull-Working: $4,942,230 (61.45%)\\n- STB - Push: $3,074,914 (38.23%)\\n\\nThe chart visualizes the percentage share of each Tier 1 category within Brazil and Mexico.</answer><graph>jupyter_plots/plot_b0bb31b03b41468093ff1651baada5f7.png</graph>'}"
      ]
     },
     "execution_count": 28,
     "metadata": {},
     "output_type": "execute_result"
    }
   ],
   "source": [
    "result2['recorder_steps'][2]"
   ]
  },
  {
   "cell_type": "code",
   "execution_count": 29,
   "id": "92a3ae0f",
   "metadata": {},
   "outputs": [
    {
     "data": {
      "text/plain": [
       "True"
      ]
     },
     "execution_count": 29,
     "metadata": {},
     "output_type": "execute_result"
    }
   ],
   "source": [
    "result2['output'] == result2['recorder_steps'][2]['final_answer']"
   ]
  },
  {
   "cell_type": "code",
   "execution_count": 30,
   "id": "3193cb2c",
   "metadata": {},
   "outputs": [
    {
     "data": {
      "text/plain": [
       "'Can you give me split of Tier 1 items for each Brazil & Mexico for 2025?'"
      ]
     },
     "execution_count": 30,
     "metadata": {},
     "output_type": "execute_result"
    }
   ],
   "source": [
    "question"
   ]
  },
  {
   "cell_type": "code",
   "execution_count": 31,
   "id": "c719f00f",
   "metadata": {
    "scrolled": true
   },
   "outputs": [
    {
     "name": "stdout",
     "output_type": "stream",
     "text": [
      "Tier mapping response:\n",
      "{'mapping_needed': True, 'results': [{'tier_1': 'Pull-Non-Working'}, {'tier_1': 'Pull-Working'}, {'tier_1': 'STB - Push'}]}\n",
      "--------------------------------------------------------------------------------------------------------------\n",
      "\n",
      "\n",
      "\u001b[1m> Entering new AgentExecutor chain...\u001b[0m\n",
      "\u001b[32;1m\u001b[1;3m\n",
      "Invoking: `analyze_expense_data` with `Provide a split of Tier 1 items for Brazil and Mexico for the year 2025.`\n",
      "\n",
      "\n",
      "\u001b[0mResponse Text:\n",
      "<approach>\n",
      "To answer this question, I will need to:\n",
      "1. Filter the dataset for the countries \"Brazil\" and \"Mexico\" and the year 2025.\n",
      "2. Group the filtered data by \"Tier 1\" and calculate the sum of \"Total Expense\" for each \"Tier 1\" category.\n",
      "3. Calculate the percentage share of each \"Tier 1\" category in the total expense for both Brazil and Mexico.\n",
      "4. Return the results in a structured format and visualize the split using a bar chart.\n",
      "</approach>\n",
      "\n",
      "<code>\n",
      "import pandas as pd\n",
      "\n",
      "# Filter the data for Brazil and Mexico for the year 2025\n",
      "filtered_df = df[(df['Year'] == 2025) & \n",
      "                 (df['Country'].str.strip().str.upper().isin(['BRAZIL', 'MEXICO']))]\n",
      "\n",
      "# Group by 'Country' and 'Tier 1' and calculate the sum of 'Total Expense'\n",
      "grouped_df = filtered_df.groupby(['Country', 'Tier 1'])['Total Expense'].sum().reset_index()\n",
      "\n",
      "# Calculate the percentage share of each 'Tier 1' category in the total expense for each country\n",
      "total_expense_by_country = grouped_df.groupby('Country')['Total Expense'].sum().reset_index()\n",
      "grouped_df = pd.merge(grouped_df, total_expense_by_country, on='Country', suffixes=('', '_Total'))\n",
      "grouped_df['Percentage Share'] = grouped_df['Total Expense'] / grouped_df['Total Expense_Total']\n",
      "\n",
      "# Prepare the answer dictionary\n",
      "answer_dict = {\n",
      "    \"output_df\": grouped_df\n",
      "}\n",
      "</code>\n",
      "\n",
      "<chart>\n",
      "import pandas as pd\n",
      "import matplotlib.pyplot as plt\n",
      "import seaborn as sns\n",
      "\n",
      "# Set figure size and style\n",
      "plt.figure(figsize=(10, 6))\n",
      "sns.set_theme(style=\"whitegrid\")\n",
      "sns.set_palette('pastel')\n",
      "\n",
      "# Plot the data\n",
      "sns.barplot(data=grouped_df, x='Country', y='Percentage Share', hue='Tier 1')\n",
      "\n",
      "# Add title and labels\n",
      "plt.title('Tier 1 Expense Split for Brazil and Mexico in 2025')\n",
      "plt.xlabel('Country')\n",
      "plt.ylabel('Percentage Share')\n",
      "plt.xticks(rotation=45, ha='right')\n",
      "plt.grid(True, alpha=0.3)\n",
      "plt.tight_layout()\n",
      "plt.show()\n",
      "</chart>\n",
      "\n",
      "<answer>\n",
      "The split of Tier 1 items for Brazil and Mexico for the year 2025 is available in {answer_dict[\"output_df\"]}. The bar chart visualizes the percentage share of each Tier 1 category in the total expense for both countries.\n",
      "</answer>\n",
      "--------------------------------------------------------------------------------------------------------------\n",
      "Segments:\n",
      "{'approach': 'To answer this question, I will need to:\\n1. Filter the dataset for the countries \"Brazil\" and \"Mexico\" and the year 2025.\\n2. Group the filtered data by \"Tier 1\" and calculate the sum of \"Total Expense\" for each \"Tier 1\" category.\\n3. Calculate the percentage share of each \"Tier 1\" category in the total expense for both Brazil and Mexico.\\n4. Return the results in a structured format and visualize the split using a bar chart.', 'code': 'import pandas as pd\\n\\n# Filter the data for Brazil and Mexico for the year 2025\\nfiltered_df = df[(df[\\'Year\\'] == 2025) & \\n                 (df[\\'Country\\'].str.strip().str.upper().isin([\\'BRAZIL\\', \\'MEXICO\\']))]\\n\\n# Group by \\'Country\\' and \\'Tier 1\\' and calculate the sum of \\'Total Expense\\'\\ngrouped_df = filtered_df.groupby([\\'Country\\', \\'Tier 1\\'])[\\'Total Expense\\'].sum().reset_index()\\n\\n# Calculate the percentage share of each \\'Tier 1\\' category in the total expense for each country\\ntotal_expense_by_country = grouped_df.groupby(\\'Country\\')[\\'Total Expense\\'].sum().reset_index()\\ngrouped_df = pd.merge(grouped_df, total_expense_by_country, on=\\'Country\\', suffixes=(\\'\\', \\'_Total\\'))\\ngrouped_df[\\'Percentage Share\\'] = grouped_df[\\'Total Expense\\'] / grouped_df[\\'Total Expense_Total\\']\\n\\n# Prepare the answer dictionary\\nanswer_dict = {\\n    \"output_df\": grouped_df\\n}', 'chart': 'import pandas as pd\\nimport matplotlib.pyplot as plt\\nimport seaborn as sns\\n\\n# Set figure size and style\\nplt.figure(figsize=(10, 6))\\nsns.set_theme(style=\"whitegrid\")\\nsns.set_palette(\\'pastel\\')\\n\\n# Plot the data\\nsns.barplot(data=grouped_df, x=\\'Country\\', y=\\'Percentage Share\\', hue=\\'Tier 1\\')\\n\\n# Add title and labels\\nplt.title(\\'Tier 1 Expense Split for Brazil and Mexico in 2025\\')\\nplt.xlabel(\\'Country\\')\\nplt.ylabel(\\'Percentage Share\\')\\nplt.xticks(rotation=45, ha=\\'right\\')\\nplt.grid(True, alpha=0.3)\\nplt.tight_layout()\\nplt.show()', 'answer': 'The split of Tier 1 items for Brazil and Mexico for the year 2025 is available in {answer_dict[\"output_df\"]}. The bar chart visualizes the percentage share of each Tier 1 category in the total expense for both countries.'}\n",
      "--------------------------------------------------------------------------------------------------------------\n",
      "\u001b[36;1m\u001b[1;3m{'approach': 'To answer this question, I will need to:\\n1. Filter the dataset for the countries \"Brazil\" and \"Mexico\" and the year 2025.\\n2. Group the filtered data by \"Tier 1\" and calculate the sum of \"Total Expense\" for each \"Tier 1\" category.\\n3. Calculate the percentage share of each \"Tier 1\" category in the total expense for both Brazil and Mexico.\\n4. Return the results in a structured format and visualize the split using a bar chart.', 'answer': 'The split of Tier 1 items for Brazil and Mexico for the year 2025 is available in   Country            Tier 1  Total Expense  Total Expense_Total  \\\\\\n0  BRAZIL  Pull-Non-Working         417512              4810448   \\n1  BRAZIL      Pull-Working        1031633              4810448   \\n2  BRAZIL        STB - Push        3361303              4810448   \\n3  MEXICO  Pull-Non-Working          25410              8042554   \\n4  MEXICO      Pull-Working        4942230              8042554   \\n5  MEXICO        STB - Push        3074914              8042554   \\n\\n   Percentage Share  \\n0          0.086793  \\n1          0.214457  \\n2          0.698751  \\n3          0.003159  \\n4          0.614510  \\n5          0.382331  . The bar chart visualizes the percentage share of each Tier 1 category in the total expense for both countries.', 'figure': 'jupyter_plots/plot_7486c2cc8a364679a768b1d4325a5c77.png', 'code': 'import pandas as pd\\n\\n# Filter the data for Brazil and Mexico for the year 2025\\nfiltered_df = df[(df[\\'Year\\'] == 2025) & \\n                 (df[\\'Country\\'].str.strip().str.upper().isin([\\'BRAZIL\\', \\'MEXICO\\']))]\\n\\n# Group by \\'Country\\' and \\'Tier 1\\' and calculate the sum of \\'Total Expense\\'\\ngrouped_df = filtered_df.groupby([\\'Country\\', \\'Tier 1\\'])[\\'Total Expense\\'].sum().reset_index()\\n\\n# Calculate the percentage share of each \\'Tier 1\\' category in the total expense for each country\\ntotal_expense_by_country = grouped_df.groupby(\\'Country\\')[\\'Total Expense\\'].sum().reset_index()\\ngrouped_df = pd.merge(grouped_df, total_expense_by_country, on=\\'Country\\', suffixes=(\\'\\', \\'_Total\\'))\\ngrouped_df[\\'Percentage Share\\'] = grouped_df[\\'Total Expense\\'] / grouped_df[\\'Total Expense_Total\\']\\n\\n# Prepare the answer dictionary\\nanswer_dict = {\\n    \"output_df\": grouped_df\\n}', 'chart_code': 'import pandas as pd\\nimport matplotlib.pyplot as plt\\nimport seaborn as sns\\n\\n# Set figure size and style\\nplt.figure(figsize=(10, 6))\\nsns.set_theme(style=\"whitegrid\")\\nsns.set_palette(\\'pastel\\')\\n\\n# Plot the data\\nsns.barplot(data=grouped_df, x=\\'Country\\', y=\\'Percentage Share\\', hue=\\'Tier 1\\')\\n\\n# Add title and labels\\nplt.title(\\'Tier 1 Expense Split for Brazil and Mexico in 2025\\')\\nplt.xlabel(\\'Country\\')\\nplt.ylabel(\\'Percentage Share\\')\\nplt.xticks(rotation=45, ha=\\'right\\')\\nplt.grid(True, alpha=0.3)\\nplt.tight_layout()\\nplt.show()'}\u001b[0m\u001b[32;1m\u001b[1;3m<answer>For the year 2025, the split of Tier 1 items for Brazil and Mexico is as follows:\n",
      "\n",
      "**Brazil:**\n",
      "- Pull-Non-Working: $417,512 (8.68%)\n",
      "- Pull-Working: $1,031,633 (21.45%)\n",
      "- STB - Push: $3,361,303 (69.88%)\n",
      "\n",
      "**Mexico:**\n",
      "- Pull-Non-Working: $25,410 (0.32%)\n",
      "- Pull-Working: $4,942,230 (61.45%)\n",
      "- STB - Push: $3,074,914 (38.23%)\n",
      "\n",
      "The chart visualizes the percentage share of each Tier 1 category within Brazil and Mexico.</answer><graph>jupyter_plots/plot_7486c2cc8a364679a768b1d4325a5c77.png</graph>\u001b[0m\n",
      "\n",
      "\u001b[1m> Finished chain.\u001b[0m\n"
     ]
    },
    {
     "name": "stdout",
     "output_type": "stream",
     "text": [
      "Tier mapping response:\n",
      "{'mapping_needed': True, 'results': [{'tier_1': 'Pull-Non-Working'}, {'tier_1': 'Pull-Working'}, {'tier_1': 'STB - Push'}]}\n",
      "--------------------------------------------------------------------------------------------------------------\n"
     ]
    },
    {
     "data": {
      "image/png": "[encoded data removed]",
      "text/plain": [
       "<Figure size 1000x600 with 1 Axes>"
      ]
     },
     "metadata": {},
     "output_type": "display_data"
    }
   ],
   "source": [
    "result3 = multi_agent_obj.graph.invoke(\n",
    "    {\n",
    "        'question': question\n",
    "    }\n",
    ")"
   ]
  },
  {
   "cell_type": "code",
   "execution_count": 32,
   "id": "d0bb77d8",
   "metadata": {},
   "outputs": [
    {
     "data": {
      "text/plain": [
       "{'result': {'thought_process': \"The Insight Agent has provided a detailed breakdown of Tier 1 items for Brazil and Mexico for the year 2025. The response includes both the monetary values and percentage shares for each category within the two countries. This comprehensive analysis fulfills the user's request.\",\n",
       "  'next': 'FINISH',\n",
       "  'direct_response': 'For the year 2025, the split of Tier 1 items for Brazil and Mexico is as follows:\\n\\n**Brazil:**\\n- Pull-Non-Working: $417,512 (8.68%)\\n- Pull-Working: $1,031,633 (21.45%)\\n- STB - Push: $3,361,303 (69.88%)\\n\\n**Mexico:**\\n- Pull-Non-Working: $25,410 (0.32%)\\n- Pull-Working: $4,942,230 (61.45%)\\n- STB - Push: $3,074,914 (38.23%)\\n\\nThe chart visualizes the percentage share of each Tier 1 category within Brazil and Mexico.',\n",
       "  'enriched_question': 'What is the split of Tier 1 items for Brazil and Mexico for the year 2025?'},\n",
       " 'messages': [AIMessage(content=\"The Insight Agent has provided a detailed breakdown of Tier 1 items for Brazil and Mexico for the year 2025. The response includes both the monetary values and percentage shares for each category within the two countries. This comprehensive analysis fulfills the user's request.\", additional_kwargs={}, response_metadata={}, name='supervisor')],\n",
       " 'next': 'FINISH',\n",
       " 'type': 'agent'}"
      ]
     },
     "execution_count": 32,
     "metadata": {},
     "output_type": "execute_result"
    }
   ],
   "source": [
    "result3"
   ]
  },
  {
   "cell_type": "code",
   "execution_count": null,
   "id": "704414cd",
   "metadata": {},
   "outputs": [],
   "source": []
  }
 ],
 "metadata": {
  "hide_input": false,
  "kernelspec": {
   "display_name": "Python 3.12.11 (pepsico_gen_ai)",
   "language": "python",
   "name": "pepsico_gen_ai"
  },
  "language_info": {
   "codemirror_mode": {
    "name": "ipython",
    "version": 3
   },
   "file_extension": ".py",
   "mimetype": "text/x-python",
   "name": "python",
   "nbconvert_exporter": "python",
   "pygments_lexer": "ipython3",
   "version": "3.12.11"
  },
  "toc": {
   "base_numbering": 1,
   "nav_menu": {},
   "number_sections": false,
   "sideBar": true,
   "skip_h1_title": false,
   "title_cell": "Table of Contents",
   "title_sidebar": "Contents",
   "toc_cell": false,
   "toc_position": {},
   "toc_section_display": true,
   "toc_window_display": false
  }
 },
 "nbformat": 4,
 "nbformat_minor": 5
}
