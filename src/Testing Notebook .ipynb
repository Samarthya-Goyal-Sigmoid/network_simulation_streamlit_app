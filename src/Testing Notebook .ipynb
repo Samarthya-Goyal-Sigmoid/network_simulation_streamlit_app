{
 "cells": [
  {
   "cell_type": "code",
   "execution_count": 1,
   "id": "5c9ccf47",
   "metadata": {},
   "outputs": [],
   "source": [
    "import warnings\n",
    "warnings.filterwarnings('ignore')\n",
    "import yaml\n",
    "import pandas as pd"
   ]
  },
  {
   "cell_type": "code",
   "execution_count": 2,
   "id": "84fcc6b9",
   "metadata": {},
   "outputs": [],
   "source": [
    "from multi_agents import MultiAgentSystem"
   ]
  },
  {
   "cell_type": "code",
   "execution_count": 3,
   "id": "42d53da2",
   "metadata": {},
   "outputs": [],
   "source": [
    "with open(\"/Users/sigmoid/Downloads/llm_keys.yaml\", \"r\") as f:\n",
    "    llm_keys = yaml.safe_load(f)"
   ]
  },
  {
   "cell_type": "code",
   "execution_count": 4,
   "id": "598277ba",
   "metadata": {},
   "outputs": [],
   "source": [
    "file_path = '/Users/sigmoid/Documents/PepsiCo - Gen AI PoC/lift_bot/src'"
   ]
  },
  {
   "cell_type": "code",
   "execution_count": 5,
   "id": "dd2b4162",
   "metadata": {},
   "outputs": [],
   "source": [
    "# Load data (MODIFIED for new structure)\n",
    "df_expenses = pd.read_csv(f\"{file_path}/data/Expense.csv\")"
   ]
  },
  {
   "cell_type": "code",
   "execution_count": 6,
   "id": "9b382262",
   "metadata": {},
   "outputs": [],
   "source": [
    "# Convert to correct format\n",
    "df_expenses[\"Expense\"] = (\n",
    "    df_expenses[\"Expense\"]\n",
    "    .str.replace(\",\", \"\", regex=False)\n",
    "    .astype(float)\n",
    "    .astype(int)\n",
    ")"
   ]
  },
  {
   "cell_type": "code",
   "execution_count": 7,
   "id": "af15e0ea",
   "metadata": {},
   "outputs": [
    {
     "data": {
      "text/html": [
       "<div>\n",
       "<style scoped>\n",
       "    .dataframe tbody tr th:only-of-type {\n",
       "        vertical-align: middle;\n",
       "    }\n",
       "\n",
       "    .dataframe tbody tr th {\n",
       "        vertical-align: top;\n",
       "    }\n",
       "\n",
       "    .dataframe thead th {\n",
       "        text-align: right;\n",
       "    }\n",
       "</style>\n",
       "<table border=\"1\" class=\"dataframe\">\n",
       "  <thead>\n",
       "    <tr style=\"text-align: right;\">\n",
       "      <th></th>\n",
       "      <th>Country</th>\n",
       "      <th>Year</th>\n",
       "      <th>Month</th>\n",
       "      <th>Category</th>\n",
       "      <th>Brand</th>\n",
       "      <th>Data Type</th>\n",
       "      <th>Tier 1</th>\n",
       "      <th>Tier 2</th>\n",
       "      <th>Tier 3</th>\n",
       "      <th>Expense</th>\n",
       "      <th>Status</th>\n",
       "      <th>Count</th>\n",
       "    </tr>\n",
       "  </thead>\n",
       "  <tbody>\n",
       "    <tr>\n",
       "      <th>0</th>\n",
       "      <td>Brazil</td>\n",
       "      <td>2022</td>\n",
       "      <td>1</td>\n",
       "      <td>CSD Colas</td>\n",
       "      <td>PEPSI</td>\n",
       "      <td>A&amp;M</td>\n",
       "      <td>PULL - Non working</td>\n",
       "      <td>Agency Fees</td>\n",
       "      <td>Creative Agency Fees</td>\n",
       "      <td>125</td>\n",
       "      <td>Approved</td>\n",
       "      <td>1</td>\n",
       "    </tr>\n",
       "    <tr>\n",
       "      <th>1</th>\n",
       "      <td>Brazil</td>\n",
       "      <td>2022</td>\n",
       "      <td>1</td>\n",
       "      <td>CSD Colas</td>\n",
       "      <td>PEPSI</td>\n",
       "      <td>A&amp;M</td>\n",
       "      <td>PULL - Non working</td>\n",
       "      <td>Agency Fees</td>\n",
       "      <td>Media Agency Fees</td>\n",
       "      <td>20603</td>\n",
       "      <td>Approved</td>\n",
       "      <td>1</td>\n",
       "    </tr>\n",
       "    <tr>\n",
       "      <th>2</th>\n",
       "      <td>Brazil</td>\n",
       "      <td>2022</td>\n",
       "      <td>1</td>\n",
       "      <td>CSD Colas</td>\n",
       "      <td>PEPSI</td>\n",
       "      <td>A&amp;M</td>\n",
       "      <td>PULL - Non working</td>\n",
       "      <td>Agency Fees</td>\n",
       "      <td>Social Media/Influence Marketing</td>\n",
       "      <td>847</td>\n",
       "      <td>Approved</td>\n",
       "      <td>1</td>\n",
       "    </tr>\n",
       "    <tr>\n",
       "      <th>3</th>\n",
       "      <td>Brazil</td>\n",
       "      <td>2022</td>\n",
       "      <td>1</td>\n",
       "      <td>CSD Colas</td>\n",
       "      <td>PEPSI</td>\n",
       "      <td>A&amp;M</td>\n",
       "      <td>PULL - Non working</td>\n",
       "      <td>Insight</td>\n",
       "      <td>Advanced Analytics</td>\n",
       "      <td>39123</td>\n",
       "      <td>Approved</td>\n",
       "      <td>1</td>\n",
       "    </tr>\n",
       "    <tr>\n",
       "      <th>4</th>\n",
       "      <td>Brazil</td>\n",
       "      <td>2022</td>\n",
       "      <td>1</td>\n",
       "      <td>CSD Colas</td>\n",
       "      <td>PEPSI</td>\n",
       "      <td>A&amp;M</td>\n",
       "      <td>PULL - Non working</td>\n",
       "      <td>Insight</td>\n",
       "      <td>Consumer Tracking</td>\n",
       "      <td>1951</td>\n",
       "      <td>Approved</td>\n",
       "      <td>1</td>\n",
       "    </tr>\n",
       "  </tbody>\n",
       "</table>\n",
       "</div>"
      ],
      "text/plain": [
       "  Country  Year  Month   Category  Brand Data Type              Tier 1  \\\n",
       "0  Brazil  2022      1  CSD Colas  PEPSI       A&M  PULL - Non working   \n",
       "1  Brazil  2022      1  CSD Colas  PEPSI       A&M  PULL - Non working   \n",
       "2  Brazil  2022      1  CSD Colas  PEPSI       A&M  PULL - Non working   \n",
       "3  Brazil  2022      1  CSD Colas  PEPSI       A&M  PULL - Non working   \n",
       "4  Brazil  2022      1  CSD Colas  PEPSI       A&M  PULL - Non working   \n",
       "\n",
       "        Tier 2                            Tier 3  Expense    Status  Count  \n",
       "0  Agency Fees              Creative Agency Fees      125  Approved      1  \n",
       "1  Agency Fees                 Media Agency Fees    20603  Approved      1  \n",
       "2  Agency Fees  Social Media/Influence Marketing      847  Approved      1  \n",
       "3      Insight                Advanced Analytics    39123  Approved      1  \n",
       "4      Insight                 Consumer Tracking     1951  Approved      1  "
      ]
     },
     "execution_count": 7,
     "metadata": {},
     "output_type": "execute_result"
    }
   ],
   "source": [
    "df_expenses.head()"
   ]
  },
  {
   "cell_type": "code",
   "execution_count": 8,
   "id": "dd7a4b35",
   "metadata": {},
   "outputs": [],
   "source": [
    "df_budget = pd.read_csv(f\"{file_path}/data/Budget.csv\")"
   ]
  },
  {
   "cell_type": "code",
   "execution_count": 9,
   "id": "601b3e7d",
   "metadata": {},
   "outputs": [],
   "source": [
    "# Handle budget data type conversion if needed\n",
    "if \"Historical - Budget\" in df_budget.columns:\n",
    "    df_budget[\"Historical - Budget\"] = (\n",
    "        df_budget[\"Historical - Budget\"].str.replace(\",\", \"\", regex=False).astype(float).astype(int)\n",
    "    )\n",
    "if \"Current - Budget\" in df_budget.columns:\n",
    "    df_budget[\"Current - Budget\"] = (\n",
    "        df_budget[\"Current - Budget\"].str.replace(\",\", \"\", regex=False).astype(float).astype(int)\n",
    "    )"
   ]
  },
  {
   "cell_type": "code",
   "execution_count": 10,
   "id": "771efdcd",
   "metadata": {},
   "outputs": [
    {
     "data": {
      "text/html": [
       "<div>\n",
       "<style scoped>\n",
       "    .dataframe tbody tr th:only-of-type {\n",
       "        vertical-align: middle;\n",
       "    }\n",
       "\n",
       "    .dataframe tbody tr th {\n",
       "        vertical-align: top;\n",
       "    }\n",
       "\n",
       "    .dataframe thead th {\n",
       "        text-align: right;\n",
       "    }\n",
       "</style>\n",
       "<table border=\"1\" class=\"dataframe\">\n",
       "  <thead>\n",
       "    <tr style=\"text-align: right;\">\n",
       "      <th></th>\n",
       "      <th>Country</th>\n",
       "      <th>Tier 1</th>\n",
       "      <th>Tier 2</th>\n",
       "      <th>Tier 3</th>\n",
       "      <th>Historical - Split (%)</th>\n",
       "      <th>Current - Split (%)</th>\n",
       "      <th>Historical - Budget</th>\n",
       "      <th>Current - Budget</th>\n",
       "    </tr>\n",
       "  </thead>\n",
       "  <tbody>\n",
       "    <tr>\n",
       "      <th>0</th>\n",
       "      <td>Mexico</td>\n",
       "      <td>Pull-Non-Working</td>\n",
       "      <td>Ad Production</td>\n",
       "      <td>Digital Ad Production</td>\n",
       "      <td>0.0000</td>\n",
       "      <td>0.0000</td>\n",
       "      <td>0</td>\n",
       "      <td>0</td>\n",
       "    </tr>\n",
       "    <tr>\n",
       "      <th>1</th>\n",
       "      <td>Mexico</td>\n",
       "      <td>Pull-Non-Working</td>\n",
       "      <td>Ad Production</td>\n",
       "      <td>Other Ad Production</td>\n",
       "      <td>0.0000</td>\n",
       "      <td>0.0000</td>\n",
       "      <td>0</td>\n",
       "      <td>0</td>\n",
       "    </tr>\n",
       "    <tr>\n",
       "      <th>2</th>\n",
       "      <td>Mexico</td>\n",
       "      <td>Pull-Non-Working</td>\n",
       "      <td>Ad Production</td>\n",
       "      <td>TV Print Radio OOH Prod</td>\n",
       "      <td>0.0030</td>\n",
       "      <td>0.0030</td>\n",
       "      <td>375924</td>\n",
       "      <td>389021</td>\n",
       "    </tr>\n",
       "    <tr>\n",
       "      <th>3</th>\n",
       "      <td>Mexico</td>\n",
       "      <td>Pull-Non-Working</td>\n",
       "      <td>Agency Fees</td>\n",
       "      <td>Creative Agency Fees</td>\n",
       "      <td>0.0000</td>\n",
       "      <td>0.0000</td>\n",
       "      <td>0</td>\n",
       "      <td>0</td>\n",
       "    </tr>\n",
       "    <tr>\n",
       "      <th>4</th>\n",
       "      <td>Mexico</td>\n",
       "      <td>Pull-Non-Working</td>\n",
       "      <td>Agency Fees</td>\n",
       "      <td>In Store and POS Design/Development</td>\n",
       "      <td>0.0015</td>\n",
       "      <td>0.0015</td>\n",
       "      <td>187962</td>\n",
       "      <td>194511</td>\n",
       "    </tr>\n",
       "  </tbody>\n",
       "</table>\n",
       "</div>"
      ],
      "text/plain": [
       "  Country            Tier 1         Tier 2  \\\n",
       "0  Mexico  Pull-Non-Working  Ad Production   \n",
       "1  Mexico  Pull-Non-Working  Ad Production   \n",
       "2  Mexico  Pull-Non-Working  Ad Production   \n",
       "3  Mexico  Pull-Non-Working    Agency Fees   \n",
       "4  Mexico  Pull-Non-Working    Agency Fees   \n",
       "\n",
       "                                Tier 3  Historical - Split (%)  \\\n",
       "0                Digital Ad Production                  0.0000   \n",
       "1                  Other Ad Production                  0.0000   \n",
       "2              TV Print Radio OOH Prod                  0.0030   \n",
       "3                 Creative Agency Fees                  0.0000   \n",
       "4  In Store and POS Design/Development                  0.0015   \n",
       "\n",
       "   Current - Split (%)  Historical - Budget  Current - Budget  \n",
       "0               0.0000                    0                 0  \n",
       "1               0.0000                    0                 0  \n",
       "2               0.0030               375924            389021  \n",
       "3               0.0000                    0                 0  \n",
       "4               0.0015               187962            194511  "
      ]
     },
     "execution_count": 10,
     "metadata": {},
     "output_type": "execute_result"
    }
   ],
   "source": [
    "df_budget.head()"
   ]
  },
  {
   "cell_type": "code",
   "execution_count": 11,
   "id": "b6f041bc",
   "metadata": {},
   "outputs": [],
   "source": [
    "multi_agent_obj = MultiAgentSystem(\n",
    "    model_name='gpt-4o',\n",
    "    api_key=llm_keys['open_ai'],\n",
    "    expense_dataset=df_expenses,\n",
    "    budget_dataset=df_budget,\n",
    "    plot_path='jupyter_plots',\n",
    ")"
   ]
  },
  {
   "cell_type": "code",
   "execution_count": 12,
   "id": "46953a35",
   "metadata": {},
   "outputs": [],
   "source": [
    "question = 'What are the Tier 1 expenses in 2024 for Brazil?'\n",
    "question = \"How are the Tier 1 expenses in CY varying for Mexico & Brazil for Pepsi brand?\""
   ]
  },
  {
   "cell_type": "code",
   "execution_count": 13,
   "id": "2c9ca966",
   "metadata": {},
   "outputs": [],
   "source": [
    "result = multi_agent_obj.graph.nodes['supervisor'].invoke(\n",
    "    {\n",
    "        'question': question\n",
    "    }\n",
    ")"
   ]
  },
  {
   "cell_type": "code",
   "execution_count": 14,
   "id": "121f2069",
   "metadata": {},
   "outputs": [
    {
     "data": {
      "text/plain": [
       "{'result': {'thought_process': 'The user is asking for a comparison of Tier 1 expenses for the current year (CY) for the Pepsi brand in Mexico and Brazil. This requires analyzing expense data across two countries and comparing them, which falls under the capabilities of the Insight Agent.',\n",
       "  'next': 'Insight Agent',\n",
       "  'enriched_question': 'Compare Tier 1 expenses for the current year for the Pepsi brand in Mexico and Brazil.'},\n",
       " 'messages': [AIMessage(content='The user is asking for a comparison of Tier 1 expenses for the current year (CY) for the Pepsi brand in Mexico and Brazil. This requires analyzing expense data across two countries and comparing them, which falls under the capabilities of the Insight Agent.', additional_kwargs={}, response_metadata={}, name='supervisor')],\n",
       " 'next': 'Insight Agent'}"
      ]
     },
     "execution_count": 14,
     "metadata": {},
     "output_type": "execute_result"
    }
   ],
   "source": [
    "result"
   ]
  },
  {
   "cell_type": "code",
   "execution_count": 15,
   "id": "e762ddee",
   "metadata": {
    "scrolled": true
   },
   "outputs": [
    {
     "name": "stdout",
     "output_type": "stream",
     "text": [
      "\n",
      "\n",
      "\u001b[1m> Entering new AgentExecutor chain...\u001b[0m\n",
      "\u001b[32;1m\u001b[1;3m\n",
      "Invoking: `analyze_expense_data` with `Compare Tier 1 expenses for the current year for the Pepsi brand in Mexico and Brazil.`\n",
      "\n",
      "\n",
      "\u001b[0mSegments are: {'approach': 'To answer this question, I will need to:\\n1. Determine the current year by finding the maximum value in the \"Year\" column.\\n2. Filter the dataset for the current year, the \"PEPSI\" brand, and the countries \"Mexico\" and \"Brazil\".\\n3. Group the filtered data by \"Country\" and \"Tier 1\" and sum the \"Expense\" for each group.\\n4. Compare the expenses for each \"Tier 1\" category between Mexico and Brazil.\\n5. Visualize the comparison using a bar chart to show the expenses for each \"Tier 1\" category in both countries.', 'code': \"import pandas as pd\\n\\n# Determine the current year\\ncurrent_year = df['Year'].max()\\n\\n# Filter the data for the current year, PEPSI brand, and countries Mexico and Brazil\\nfiltered_df = df[(df['Year'] == current_year) & \\n                 (df['Brand'].str.strip().str.upper() == 'PEPSI') & \\n                 (df['Country'].str.strip().str.upper().isin(['MEXICO', 'BRAZIL']))]\\n\\n# Group by Country and Tier 1, then sum the Expense\\ntier1_expenses = filtered_df.groupby(['Country', 'Tier 1'])['Expense'].sum().reset_index()\\n\\ntier1_expenses\", 'chart': 'import pandas as pd\\nimport matplotlib.pyplot as plt\\nimport seaborn as sns\\n\\n# Set figure size and style\\nplt.figure(figsize=(10, 6))\\nsns.set_theme(style=\"whitegrid\")\\nsns.set_palette(\\'pastel\\')\\n\\n# Create a bar plot for Tier 1 expenses comparison\\nsns.barplot(data=tier1_expenses, x=\\'Tier 1\\', y=\\'Expense\\', hue=\\'Country\\')\\n\\n# Add title and labels\\nplt.title(\\'Comparison of Tier 1 Expenses for PEPSI in Mexico and Brazil for the Current Year\\')\\nplt.xlabel(\\'Tier 1\\')\\nplt.ylabel(\\'Total Expense ($)\\')\\nplt.xticks(rotation=45, ha=\\'right\\')\\nplt.grid(True, alpha=0.3)\\n\\n# Adjust layout\\nplt.tight_layout()\\n\\n# Show plot\\nplt.show()', 'answer': \"For the current year, the total Tier 1 expenses for the PEPSI brand in Mexico and Brazil are as follows:\\n- In Brazil, the expenses are: {tier1_expenses[tier1_expenses['Country'] == 'Brazil'].to_dict('records')}\\n- In Mexico, the expenses are: {tier1_expenses[tier1_expenses['Country'] == 'Mexico'].to_dict('records')}\\n\\nThe bar chart visualizes the comparison of these expenses across different Tier 1 categories for both countries.\"}\n",
      "Combined Code:\n",
      " \n",
      "import pandas as pd\n",
      "\n",
      "# Determine the current year\n",
      "current_year = df['Year'].max()\n",
      "\n",
      "# Filter the data for the current year, PEPSI brand, and countries Mexico and Brazil\n",
      "filtered_df = df[(df['Year'] == current_year) & \n",
      "                 (df['Brand'].str.strip().str.upper() == 'PEPSI') & \n",
      "                 (df['Country'].str.strip().str.upper().isin(['MEXICO', 'BRAZIL']))]\n",
      "\n",
      "# Group by Country and Tier 1, then sum the Expense\n",
      "tier1_expenses = filtered_df.groupby(['Country', 'Tier 1'])['Expense'].sum().reset_index()\n",
      "\n",
      "tier1_expenses\n",
      "\n",
      "# Format the answer template\n",
      "answer_text = f'''For the current year, the total Tier 1 expenses for the PEPSI brand in Mexico and Brazil are as follows:\n",
      "- In Brazil, the expenses are: {tier1_expenses[tier1_expenses['Country'] == 'Brazil'].to_dict('records')}\n",
      "- In Mexico, the expenses are: {tier1_expenses[tier1_expenses['Country'] == 'Mexico'].to_dict('records')}\n",
      "\n",
      "The bar chart visualizes the comparison of these expenses across different Tier 1 categories for both countries.'''\n",
      "\n",
      "\u001b[36;1m\u001b[1;3m{'approach': 'To answer this question, I will need to:\\n1. Determine the current year by finding the maximum value in the \"Year\" column.\\n2. Filter the dataset for the current year, the \"PEPSI\" brand, and the countries \"Mexico\" and \"Brazil\".\\n3. Group the filtered data by \"Country\" and \"Tier 1\" and sum the \"Expense\" for each group.\\n4. Compare the expenses for each \"Tier 1\" category between Mexico and Brazil.\\n5. Visualize the comparison using a bar chart to show the expenses for each \"Tier 1\" category in both countries.', 'answer': \"For the current year, the total Tier 1 expenses for the PEPSI brand in Mexico and Brazil are as follows:\\n- In Brazil, the expenses are: [{'Country': 'Brazil', 'Tier 1': 'Others', 'Expense': 3633768}, {'Country': 'Brazil', 'Tier 1': 'PULL - Non working', 'Expense': 6204318}, {'Country': 'Brazil', 'Tier 1': 'PULL - working', 'Expense': 397412}]\\n- In Mexico, the expenses are: [{'Country': 'Mexico', 'Tier 1': 'PULL - Non working', 'Expense': 11740056}, {'Country': 'Mexico', 'Tier 1': 'PULL - working', 'Expense': 1374373}, {'Country': 'Mexico', 'Tier 1': 'PUSH', 'Expense': 95058000}]\\n\\nThe bar chart visualizes the comparison of these expenses across different Tier 1 categories for both countries.\", 'figure': 'jupyter_plots/plot_c267166af2dc492a89b82a6fad831325.png', 'code': \"import pandas as pd\\n\\n# Determine the current year\\ncurrent_year = df['Year'].max()\\n\\n# Filter the data for the current year, PEPSI brand, and countries Mexico and Brazil\\nfiltered_df = df[(df['Year'] == current_year) & \\n                 (df['Brand'].str.strip().str.upper() == 'PEPSI') & \\n                 (df['Country'].str.strip().str.upper().isin(['MEXICO', 'BRAZIL']))]\\n\\n# Group by Country and Tier 1, then sum the Expense\\ntier1_expenses = filtered_df.groupby(['Country', 'Tier 1'])['Expense'].sum().reset_index()\\n\\ntier1_expenses\", 'chart_code': 'import pandas as pd\\nimport matplotlib.pyplot as plt\\nimport seaborn as sns\\n\\n# Set figure size and style\\nplt.figure(figsize=(10, 6))\\nsns.set_theme(style=\"whitegrid\")\\nsns.set_palette(\\'pastel\\')\\n\\n# Create a bar plot for Tier 1 expenses comparison\\nsns.barplot(data=tier1_expenses, x=\\'Tier 1\\', y=\\'Expense\\', hue=\\'Country\\')\\n\\n# Add title and labels\\nplt.title(\\'Comparison of Tier 1 Expenses for PEPSI in Mexico and Brazil for the Current Year\\')\\nplt.xlabel(\\'Tier 1\\')\\nplt.ylabel(\\'Total Expense ($)\\')\\nplt.xticks(rotation=45, ha=\\'right\\')\\nplt.grid(True, alpha=0.3)\\n\\n# Adjust layout\\nplt.tight_layout()\\n\\n# Show plot\\nplt.show()'}\u001b[0m\u001b[32;1m\u001b[1;3m<answer>For the current year, the total Tier 1 expenses for the PEPSI brand in Mexico and Brazil are as follows:\n",
      "\n",
      "- **Brazil**:\n",
      "  - Others: $3,633,768\n",
      "  - PULL - Non working: $6,204,318\n",
      "  - PULL - working: $397,412\n",
      "\n",
      "- **Mexico**:\n",
      "  - PULL - Non working: $11,740,056\n",
      "  - PULL - working: $1,374,373\n",
      "  - PUSH: $95,058,000\n",
      "\n",
      "The bar chart visualizes the comparison of these expenses across different Tier 1 categories for both countries.</answer>\n",
      "\n",
      "![Comparison of Tier 1 Expenses for PEPSI in Mexico and Brazil for the Current Year](jupyter_plots/plot_c267166af2dc492a89b82a6fad831325.png)\u001b[0m\n",
      "\n",
      "\u001b[1m> Finished chain.\u001b[0m\n"
     ]
    },
    {
     "data": {
      "image/png": "[encoded data removed]",
      "text/plain": [
       "<Figure size 1000x600 with 1 Axes>"
      ]
     },
     "metadata": {},
     "output_type": "display_data"
    }
   ],
   "source": [
    "result2 = multi_agent_obj.graph.nodes['Insight Agent'].invoke(\n",
    "    {\n",
    "        'enriched_question': result['result']['enriched_question']\n",
    "    }\n",
    ")"
   ]
  },
  {
   "cell_type": "code",
   "execution_count": 18,
   "id": "c719f00f",
   "metadata": {
    "scrolled": true
   },
   "outputs": [
    {
     "name": "stdout",
     "output_type": "stream",
     "text": [
      "\n",
      "\n",
      "\u001b[1m> Entering new AgentExecutor chain...\u001b[0m\n",
      "\u001b[32;1m\u001b[1;3m\n",
      "Invoking: `analyze_expense_data` with `Calculate the total Tier 1 expenses for Brazil in 2024, grouped by Tier 1 category.`\n",
      "\n",
      "\n",
      "\u001b[0mSegments are: {'approach': 'To answer this question, I will need to:\\n1. Filter the dataset for rows where the \"Country\" is \"Brazil\" and the \"Year\" is 2024.\\n2. Convert the \"Expense\" column to a numeric type to ensure proper aggregation.\\n3. Group the filtered data by the \"Tier 1\" column.\\n4. Calculate the total expenses for each \"Tier 1\" category.\\n5. Return the results as a dictionary with \"Tier 1\" categories as keys and total expenses as values.', 'code': \"import pandas as pd\\n\\n# Assuming df is the input dataframe\\n# Filter for Brazil and Year 2024\\ndf_filtered = df[(df['Country'].str.strip().str.upper() == 'BRAZIL') & (df['Year'] == 2024)]\\n\\n# Convert Expense to numeric\\ndf_filtered['Expense'] = df_filtered['Expense'].str.replace(',', '').astype(float)\\n\\n# Group by Tier 1 and calculate total expenses\\ntier1_expenses = df_filtered.groupby('Tier 1')['Expense'].sum().to_dict()\\n\\ntier1_expenses\", 'chart': 'import pandas as pd\\nimport matplotlib.pyplot as plt\\nimport seaborn as sns\\n\\n# Assuming df is the input dataframe\\n# Filter for Brazil and Year 2024\\ndf_filtered = df[(df[\\'Country\\'].str.strip().str.upper() == \\'BRAZIL\\') & (df[\\'Year\\'] == 2024)]\\n\\n# Convert Expense to numeric\\ndf_filtered[\\'Expense\\'] = df_filtered[\\'Expense\\'].str.replace(\\',\\', \\'\\').astype(float)\\n\\n# Group by Tier 1 and calculate total expenses\\ntier1_expenses = df_filtered.groupby(\\'Tier 1\\')[\\'Expense\\'].sum().reset_index()\\n\\n# Set figure size and style\\nplt.figure(figsize=(8, 5))\\nsns.set_theme(style=\"whitegrid\")  \\nsns.set_palette(\\'pastel\\')\\n\\n# Create bar plot\\nsns.barplot(data=tier1_expenses, x=\\'Tier 1\\', y=\\'Expense\\', order=tier1_expenses.sort_values(\\'Expense\\', ascending=False)[\\'Tier 1\\'])\\n\\n# Rotate x labels\\nplt.xticks(rotation=45, ha=\\'right\\')\\n\\n# Add gridlines\\nplt.grid(True, alpha=0.3)\\n\\n# Add title and labels\\nplt.title(\\'Total Tier 1 Expenses for Brazil in 2024\\')\\nplt.xlabel(\\'Tier 1 Category\\')\\nplt.ylabel(\\'Total Expense ($)\\')\\nplt.tight_layout()\\n\\nplt.show()', 'answer': 'The total Tier 1 expenses for Brazil in 2024, grouped by Tier 1 category, are as follows: {tier1_expenses}.'}\n",
      "Combined Code:\n",
      " \n",
      "import pandas as pd\n",
      "\n",
      "# Assuming df is the input dataframe\n",
      "# Filter for Brazil and Year 2024\n",
      "df_filtered = df[(df['Country'].str.strip().str.upper() == 'BRAZIL') & (df['Year'] == 2024)]\n",
      "\n",
      "# Convert Expense to numeric\n",
      "df_filtered['Expense'] = df_filtered['Expense'].str.replace(',', '').astype(float)\n",
      "\n",
      "# Group by Tier 1 and calculate total expenses\n",
      "tier1_expenses = df_filtered.groupby('Tier 1')['Expense'].sum().to_dict()\n",
      "\n",
      "tier1_expenses\n",
      "\n",
      "# Format the answer template\n",
      "answer_text = f'''The total Tier 1 expenses for Brazil in 2024, grouped by Tier 1 category, are as follows: {tier1_expenses}.'''\n",
      "\n",
      "Error during execution: Can only use .str accessor with string values!\n",
      "\u001b[36;1m\u001b[1;3m{'approach': 'To answer this question, I will need to:\\n1. Filter the dataset for rows where the \"Country\" is \"Brazil\" and the \"Year\" is 2024.\\n2. Convert the \"Expense\" column to a numeric type to ensure proper aggregation.\\n3. Group the filtered data by the \"Tier 1\" column.\\n4. Calculate the total expenses for each \"Tier 1\" category.\\n5. Return the results as a dictionary with \"Tier 1\" categories as keys and total expenses as values.', 'answer': None, 'figure': None, 'code': \"import pandas as pd\\n\\n# Assuming df is the input dataframe\\n# Filter for Brazil and Year 2024\\ndf_filtered = df[(df['Country'].str.strip().str.upper() == 'BRAZIL') & (df['Year'] == 2024)]\\n\\n# Convert Expense to numeric\\ndf_filtered['Expense'] = df_filtered['Expense'].str.replace(',', '').astype(float)\\n\\n# Group by Tier 1 and calculate total expenses\\ntier1_expenses = df_filtered.groupby('Tier 1')['Expense'].sum().to_dict()\\n\\ntier1_expenses\", 'chart_code': 'import pandas as pd\\nimport matplotlib.pyplot as plt\\nimport seaborn as sns\\n\\n# Assuming df is the input dataframe\\n# Filter for Brazil and Year 2024\\ndf_filtered = df[(df[\\'Country\\'].str.strip().str.upper() == \\'BRAZIL\\') & (df[\\'Year\\'] == 2024)]\\n\\n# Convert Expense to numeric\\ndf_filtered[\\'Expense\\'] = df_filtered[\\'Expense\\'].str.replace(\\',\\', \\'\\').astype(float)\\n\\n# Group by Tier 1 and calculate total expenses\\ntier1_expenses = df_filtered.groupby(\\'Tier 1\\')[\\'Expense\\'].sum().reset_index()\\n\\n# Set figure size and style\\nplt.figure(figsize=(8, 5))\\nsns.set_theme(style=\"whitegrid\")  \\nsns.set_palette(\\'pastel\\')\\n\\n# Create bar plot\\nsns.barplot(data=tier1_expenses, x=\\'Tier 1\\', y=\\'Expense\\', order=tier1_expenses.sort_values(\\'Expense\\', ascending=False)[\\'Tier 1\\'])\\n\\n# Rotate x labels\\nplt.xticks(rotation=45, ha=\\'right\\')\\n\\n# Add gridlines\\nplt.grid(True, alpha=0.3)\\n\\n# Add title and labels\\nplt.title(\\'Total Tier 1 Expenses for Brazil in 2024\\')\\nplt.xlabel(\\'Tier 1 Category\\')\\nplt.ylabel(\\'Total Expense ($)\\')\\nplt.tight_layout()\\n\\nplt.show()'}\u001b[0m\u001b[32;1m\u001b[1;3m\n",
      "Invoking: `analyze_expense_data` with `Calculate the total Tier 1 expenses for Brazil in 2024, grouped by Tier 1 category.`\n",
      "\n",
      "\n",
      "\u001b[0mSegments are: {'approach': 'To answer this question, I will need to:\\n1. Filter the dataset for rows where the Country is \"Brazil\" and the Year is 2024.\\n2. Convert the \"Expense\" column to a numeric type to ensure proper aggregation.\\n3. Group the filtered data by the \"Tier 1\" column.\\n4. Calculate the total expenses for each \"Tier 1\" category.\\n5. Return the results as a dictionary.', 'code': \"import pandas as pd\\n\\n# Convert the 'Expense' column to numeric, removing any commas\\ndf['Expense'] = df['Expense'].replace(',', '', regex=True).astype(float)\\n\\n# Filter the data for Brazil in 2024\\nfiltered_df = df[(df['Country'].str.strip().str.upper() == 'BRAZIL') & (df['Year'] == 2024)]\\n\\n# Group by 'Tier 1' and calculate the total expenses\\ntier1_expenses = filtered_df.groupby('Tier 1')['Expense'].sum().to_dict()\\n\\ntier1_expenses\", 'chart': 'import pandas as pd\\nimport matplotlib.pyplot as plt\\nimport seaborn as sns\\n\\n# Set figure size and style\\nplt.figure(figsize=(8, 5))\\nsns.set_theme(style=\"whitegrid\")\\nsns.set_palette(\\'pastel\\')\\n\\n# Convert the \\'Expense\\' column to numeric, removing any commas\\ndf[\\'Expense\\'] = df[\\'Expense\\'].replace(\\',\\', \\'\\', regex=True).astype(float)\\n\\n# Filter the data for Brazil in 2024\\nfiltered_df = df[(df[\\'Country\\'].str.strip().str.upper() == \\'BRAZIL\\') & (df[\\'Year\\'] == 2024)]\\n\\n# Group by \\'Tier 1\\' and calculate the total expenses\\ntier1_expenses = filtered_df.groupby(\\'Tier 1\\')[\\'Expense\\'].sum().reset_index()\\n\\n# Plot the data\\nsns.barplot(data=tier1_expenses, x=\\'Expense\\', y=\\'Tier 1\\', orient=\\'h\\')\\n\\n# Add title and labels\\nplt.title(\\'Total Tier 1 Expenses for Brazil in 2024\\')\\nplt.xlabel(\\'Total Expense ($)\\')\\nplt.ylabel(\\'Tier 1 Category\\')\\n\\n# Format y-axis with K/M suffixes\\nplt.gca().xaxis.set_major_formatter(plt.FuncFormatter(lambda x, _: f\\'{int(x):,}\\'))\\n\\nplt.tight_layout()\\nplt.show()', 'answer': 'The total Tier 1 expenses for Brazil in 2024, grouped by Tier 1 category, are as follows: {tier1_expenses}'}\n",
      "Combined Code:\n",
      " \n",
      "import pandas as pd\n",
      "\n",
      "# Convert the 'Expense' column to numeric, removing any commas\n",
      "df['Expense'] = df['Expense'].replace(',', '', regex=True).astype(float)\n",
      "\n",
      "# Filter the data for Brazil in 2024\n",
      "filtered_df = df[(df['Country'].str.strip().str.upper() == 'BRAZIL') & (df['Year'] == 2024)]\n",
      "\n",
      "# Group by 'Tier 1' and calculate the total expenses\n",
      "tier1_expenses = filtered_df.groupby('Tier 1')['Expense'].sum().to_dict()\n",
      "\n",
      "tier1_expenses\n",
      "\n",
      "# Format the answer template\n",
      "answer_text = f'''The total Tier 1 expenses for Brazil in 2024, grouped by Tier 1 category, are as follows: {tier1_expenses}'''\n",
      "\n",
      "\u001b[36;1m\u001b[1;3m{'approach': 'To answer this question, I will need to:\\n1. Filter the dataset for rows where the Country is \"Brazil\" and the Year is 2024.\\n2. Convert the \"Expense\" column to a numeric type to ensure proper aggregation.\\n3. Group the filtered data by the \"Tier 1\" column.\\n4. Calculate the total expenses for each \"Tier 1\" category.\\n5. Return the results as a dictionary.', 'answer': \"The total Tier 1 expenses for Brazil in 2024, grouped by Tier 1 category, are as follows: {'Others': 12253120.0, 'PULL - Non working': 11988603.0, 'PULL - working': 17973874.0, 'PUSH': 2238487.0}\", 'figure': 'plots_jupyter2/plot_3dcb7adc8edd4105b9fa353b89de0eeb.png', 'code': \"import pandas as pd\\n\\n# Convert the 'Expense' column to numeric, removing any commas\\ndf['Expense'] = df['Expense'].replace(',', '', regex=True).astype(float)\\n\\n# Filter the data for Brazil in 2024\\nfiltered_df = df[(df['Country'].str.strip().str.upper() == 'BRAZIL') & (df['Year'] == 2024)]\\n\\n# Group by 'Tier 1' and calculate the total expenses\\ntier1_expenses = filtered_df.groupby('Tier 1')['Expense'].sum().to_dict()\\n\\ntier1_expenses\", 'chart_code': 'import pandas as pd\\nimport matplotlib.pyplot as plt\\nimport seaborn as sns\\n\\n# Set figure size and style\\nplt.figure(figsize=(8, 5))\\nsns.set_theme(style=\"whitegrid\")\\nsns.set_palette(\\'pastel\\')\\n\\n# Convert the \\'Expense\\' column to numeric, removing any commas\\ndf[\\'Expense\\'] = df[\\'Expense\\'].replace(\\',\\', \\'\\', regex=True).astype(float)\\n\\n# Filter the data for Brazil in 2024\\nfiltered_df = df[(df[\\'Country\\'].str.strip().str.upper() == \\'BRAZIL\\') & (df[\\'Year\\'] == 2024)]\\n\\n# Group by \\'Tier 1\\' and calculate the total expenses\\ntier1_expenses = filtered_df.groupby(\\'Tier 1\\')[\\'Expense\\'].sum().reset_index()\\n\\n# Plot the data\\nsns.barplot(data=tier1_expenses, x=\\'Expense\\', y=\\'Tier 1\\', orient=\\'h\\')\\n\\n# Add title and labels\\nplt.title(\\'Total Tier 1 Expenses for Brazil in 2024\\')\\nplt.xlabel(\\'Total Expense ($)\\')\\nplt.ylabel(\\'Tier 1 Category\\')\\n\\n# Format y-axis with K/M suffixes\\nplt.gca().xaxis.set_major_formatter(plt.FuncFormatter(lambda x, _: f\\'{int(x):,}\\'))\\n\\nplt.tight_layout()\\nplt.show()'}\u001b[0m\u001b[32;1m\u001b[1;3m<answer>\n",
      "The total Tier 1 expenses for Brazil in 2024, grouped by Tier 1 category, are as follows:\n",
      "- Others: $12,253,120\n",
      "- PULL - Non working: $11,988,603\n",
      "- PULL - working: $17,973,874\n",
      "- PUSH: $2,238,487\n",
      "</answer>\u001b[0m\n",
      "\n",
      "\u001b[1m> Finished chain.\u001b[0m\n"
     ]
    },
    {
     "data": {
      "image/png": "[encoded data removed]",
      "text/plain": [
       "<Figure size 800x500 with 1 Axes>"
      ]
     },
     "metadata": {},
     "output_type": "display_data"
    }
   ],
   "source": [
    "result3 = multi_agent_obj.graph.invoke(\n",
    "    {\n",
    "        'question': question\n",
    "    }\n",
    ")"
   ]
  },
  {
   "cell_type": "code",
   "execution_count": 20,
   "id": "d0bb77d8",
   "metadata": {},
   "outputs": [
    {
     "data": {
      "text/plain": [
       "{'result': {'thought_process': 'The user has received a detailed breakdown of Tier 1 expenses for Brazil in 2024, grouped by category. There is no further question or request for analysis from the user at this point. Therefore, the conversation can be concluded.',\n",
       "  'next': 'FINISH',\n",
       "  'enriched_question': 'The total Tier 1 expenses for Brazil in 2024, grouped by Tier 1 category, are as follows: - Others: $12,253,120 - PULL - Non working: $11,988,603 - PULL - working: $17,973,874 - PUSH: $2,238,487'},\n",
       " 'messages': [AIMessage(content='The user has received a detailed breakdown of Tier 1 expenses for Brazil in 2024, grouped by category. There is no further question or request for analysis from the user at this point. Therefore, the conversation can be concluded.', additional_kwargs={}, response_metadata={}, name='supervisor')],\n",
       " 'next': 'FINISH'}"
      ]
     },
     "execution_count": 20,
     "metadata": {},
     "output_type": "execute_result"
    }
   ],
   "source": [
    "result3"
   ]
  },
  {
   "cell_type": "code",
   "execution_count": null,
   "id": "ee39f244",
   "metadata": {},
   "outputs": [],
   "source": []
  }
 ],
 "metadata": {
  "hide_input": false,
  "kernelspec": {
   "display_name": "Python 3.12.11 (pepsico_gen_ai)",
   "language": "python",
   "name": "pepsico_gen_ai"
  },
  "language_info": {
   "codemirror_mode": {
    "name": "ipython",
    "version": 3
   },
   "file_extension": ".py",
   "mimetype": "text/x-python",
   "name": "python",
   "nbconvert_exporter": "python",
   "pygments_lexer": "ipython3",
   "version": "3.12.11"
  },
  "toc": {
   "base_numbering": 1,
   "nav_menu": {},
   "number_sections": false,
   "sideBar": true,
   "skip_h1_title": false,
   "title_cell": "Table of Contents",
   "title_sidebar": "Contents",
   "toc_cell": false,
   "toc_position": {},
   "toc_section_display": true,
   "toc_window_display": false
  }
 },
 "nbformat": 4,
 "nbformat_minor": 5
}
